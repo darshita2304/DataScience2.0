{
 "cells": [
  {
   "cell_type": "raw",
   "id": "4ec9bb08-0698-424b-8b18-4cbc35254f15",
   "metadata": {},
   "source": [
    "\"\"\" Arithmatic Operators\"\"\"\n",
    "\n",
    "+ - Addition\n",
    "- - subtraction\n",
    "/ - divsion (return float)\n",
    "// - division(return round int of float)\n",
    "* - multiply\n",
    "% - modulous \n",
    "** - power"
   ]
  },
  {
   "cell_type": "code",
   "execution_count": 1,
   "id": "d231e55b-bd4c-436a-a08d-ebc37dbe298b",
   "metadata": {},
   "outputs": [
    {
     "data": {
      "text/plain": [
       "1.25"
      ]
     },
     "execution_count": 1,
     "metadata": {},
     "output_type": "execute_result"
    }
   ],
   "source": [
    "a = 5\n",
    "b = 4\n",
    "\n",
    "a/b"
   ]
  },
  {
   "cell_type": "code",
   "execution_count": 2,
   "id": "7b55500d-c260-4d83-9def-ed5421559560",
   "metadata": {},
   "outputs": [
    {
     "data": {
      "text/plain": [
       "1"
      ]
     },
     "execution_count": 2,
     "metadata": {},
     "output_type": "execute_result"
    }
   ],
   "source": [
    "a//b"
   ]
  },
  {
   "cell_type": "code",
   "execution_count": 3,
   "id": "2b3119e0-b59d-4594-b0ed-1b90fac63250",
   "metadata": {},
   "outputs": [
    {
     "data": {
      "text/plain": [
       "1"
      ]
     },
     "execution_count": 3,
     "metadata": {},
     "output_type": "execute_result"
    }
   ],
   "source": []
  },
  {
   "cell_type": "code",
   "execution_count": 5,
   "id": "21b30a89-edf4-40e8-ad39-ff16c34a622e",
   "metadata": {},
   "outputs": [
    {
     "data": {
      "text/plain": [
       "2.0"
      ]
     },
     "execution_count": 5,
     "metadata": {},
     "output_type": "execute_result"
    }
   ],
   "source": [
    "b**(1/2)"
   ]
  },
  {
   "cell_type": "code",
   "execution_count": 6,
   "id": "53d672d5-6bf4-48fd-91b3-3c7c4c871ada",
   "metadata": {},
   "outputs": [
    {
     "data": {
      "text/plain": [
       "16"
      ]
     },
     "execution_count": 6,
     "metadata": {},
     "output_type": "execute_result"
    }
   ],
   "source": [
    "b**2"
   ]
  },
  {
   "cell_type": "code",
   "execution_count": 6,
   "id": "9f259689-1d4d-4a03-b965-bce882e40f2d",
   "metadata": {},
   "outputs": [
    {
     "name": "stdin",
     "output_type": "stream",
     "text": [
      "Enter string: malayalam\n"
     ]
    },
    {
     "name": "stdout",
     "output_type": "stream",
     "text": [
      "malayalam is a palindrome sequence..\n"
     ]
    }
   ],
   "source": [
    "## check palindrome sequence\n",
    "\n",
    "data = input(\"Enter string:\")\n",
    "\n",
    "rev = data[::-1]\n",
    "\n",
    "if(rev == data):\n",
    "    print(f\"{data} is a palindrome sequence..\")\n",
    "else:\n",
    "    print(\"its is not palindrome\")\n",
    "    "
   ]
  },
  {
   "cell_type": "code",
   "execution_count": 7,
   "id": "0b57dc7f-ed8d-4fb8-b3ea-918948abf534",
   "metadata": {},
   "outputs": [
    {
     "ename": "TypeError",
     "evalue": "'str' object does not support item assignment",
     "output_type": "error",
     "traceback": [
      "\u001b[0;31m---------------------------------------------------------------------------\u001b[0m",
      "\u001b[0;31mTypeError\u001b[0m                                 Traceback (most recent call last)",
      "Cell \u001b[0;32mIn [7], line 3\u001b[0m\n\u001b[1;32m      1\u001b[0m data \u001b[38;5;241m=\u001b[39m \u001b[38;5;124m\"\u001b[39m\u001b[38;5;124mdarshita\u001b[39m\u001b[38;5;124m\"\u001b[39m\n\u001b[0;32m----> 3\u001b[0m \u001b[43mdata\u001b[49m\u001b[43m[\u001b[49m\u001b[38;5;241;43m2\u001b[39;49m\u001b[43m]\u001b[49m \u001b[38;5;241m=\u001b[39m \u001b[38;5;124m'\u001b[39m\u001b[38;5;124ms\u001b[39m\u001b[38;5;124m'\u001b[39m\n",
      "\u001b[0;31mTypeError\u001b[0m: 'str' object does not support item assignment"
     ]
    }
   ],
   "source": [
    "data = \"darshita\"\n",
    "\n",
    "data[2] = 's' # this is not allowed bcas string is immutable... u can not change value by indexing.."
   ]
  },
  {
   "cell_type": "code",
   "execution_count": 4,
   "id": "05f74795-f8ef-4797-ac45-c88385e6a503",
   "metadata": {},
   "outputs": [
    {
     "data": {
      "text/plain": [
       "'d*a*r*s*h*i*t*a'"
      ]
     },
     "execution_count": 4,
     "metadata": {},
     "output_type": "execute_result"
    }
   ],
   "source": [
    "name = \"darshita\"\n",
    "\n",
    "\"*\".join(name)\n",
    "\n"
   ]
  },
  {
   "cell_type": "code",
   "execution_count": 5,
   "id": "f8245fe0-1da4-4ada-8988-2536e8d98718",
   "metadata": {},
   "outputs": [
    {
     "data": {
      "text/plain": [
       "'**********************************************darshita**********************************************'"
      ]
     },
     "execution_count": 5,
     "metadata": {},
     "output_type": "execute_result"
    }
   ],
   "source": [
    "name.center(100,\"*\")"
   ]
  },
  {
   "cell_type": "code",
   "execution_count": 14,
   "id": "85e2148b-a3e2-4b45-96d0-608a9da9f3e4",
   "metadata": {},
   "outputs": [
    {
     "name": "stdin",
     "output_type": "stream",
     "text": [
      "Enter indian phonen number: +919823144454\n"
     ]
    },
    {
     "name": "stdout",
     "output_type": "stream",
     "text": [
      "user inpur correct phone number\n"
     ]
    }
   ],
   "source": [
    "phone_number = input(\"Enter indian phonen number:\")\n",
    "\n",
    "if (phone_number.startswith('+91') and phone_number[1::].isdigit() and len(phone_number)==13) :\n",
    "    print(\"user inpur correct phone number\")\n",
    "else:\n",
    "    print(\"wrong number\")\n"
   ]
  },
  {
   "cell_type": "code",
   "execution_count": null,
   "id": "8580d906-26bf-47db-bd0b-80ff333ab273",
   "metadata": {},
   "outputs": [],
   "source": []
  }
 ],
 "metadata": {
  "kernelspec": {
   "display_name": "Python 3 (ipykernel)",
   "language": "python",
   "name": "python3"
  },
  "language_info": {
   "codemirror_mode": {
    "name": "ipython",
    "version": 3
   },
   "file_extension": ".py",
   "mimetype": "text/x-python",
   "name": "python",
   "nbconvert_exporter": "python",
   "pygments_lexer": "ipython3",
   "version": "3.10.6"
  }
 },
 "nbformat": 4,
 "nbformat_minor": 5
}
