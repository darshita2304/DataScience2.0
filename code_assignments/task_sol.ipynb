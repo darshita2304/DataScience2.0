{
 "cells": [
  {
   "cell_type": "code",
   "execution_count": 61,
   "metadata": {},
   "outputs": [],
   "source": [
    "\"\"\" q1 : create your own class to perform list search opearations\"\"\"\n",
    "import logging as lg\n",
    "\n",
    "lg.basicConfig(filename = \"Logger.log\",level = lg.DEBUG,filemode = 'w', format = \"%(asctime)s %(levelname)s %(message)s\")\n",
    "\n",
    "class ListSearch:\n",
    "    def __init__(self,data):\n",
    "        self.data = data\n",
    "    def search(self,value):\n",
    "        try:\n",
    "            lg.info(\"Searching..\")\n",
    "            for i in range(len(self.data)):\n",
    "                if(self.data[i] == value):\n",
    "                    lg.info(\"Succesful search\")\n",
    "                    return i , True\n",
    "            lg.info(\"Unsuccesful Search\")\n",
    "            return False\n",
    "        except Exception as e:\n",
    "            lg.error(\"Error Occurred\")\n",
    "            lg.exception(e)"
   ]
  },
  {
   "cell_type": "code",
   "execution_count": 62,
   "metadata": {},
   "outputs": [
    {
     "data": {
      "text/plain": [
       "(2, True)"
      ]
     },
     "execution_count": 62,
     "metadata": {},
     "output_type": "execute_result"
    }
   ],
   "source": [
    "obj = ListSearch([1,3,4,6,7])\n",
    "obj.search(4)\n"
   ]
  },
  {
   "cell_type": "code",
   "execution_count": 63,
   "metadata": {},
   "outputs": [],
   "source": [
    "\"\"\" q2: create a class for dict new element addition\"\"\"\n",
    "import logging\n",
    "logging.basicConfig(filename='Logger.log',level= logging.DEBUG,filemode='w', format=\"%(lineno)d-%(asctime)s-%(levelname)s-%(message)s\")\n",
    "class Add_into_dict():\n",
    "    def __init__(self, mydict):\n",
    "        self.mydict = mydict\n",
    "    \n",
    "    def add_key_values_fn(self, key_values):\n",
    "        logging.info(\"this is start of add_key_values_fn \")\n",
    "        try:\n",
    "            logging.info(\"inside try block of add_key_values_fn \")\n",
    "\n",
    "            self.mydict.update(key_values)\n",
    "            \n",
    "            return self.mydict\n",
    "        except Exception as e:\n",
    "            #print(e)\n",
    "            logging.error(\"there is some issue with add_key_values_fn \")\n",
    "            logging.error(e)"
   ]
  },
  {
   "cell_type": "code",
   "execution_count": 64,
   "metadata": {},
   "outputs": [
    {
     "name": "stdout",
     "output_type": "stream",
     "text": [
      "{'key1': 'value1', 'key2': 'value2', 'key3': 'value3', 'key4': 'value4'}\n"
     ]
    }
   ],
   "source": [
    "obj = Add_into_dict({'key1':'value1','key2':'value2','key3':'value3'})\n",
    "new_dict = obj.add_key_values_fn({'key4':'value4'})\n",
    "print(new_dict)\n"
   ]
  },
  {
   "cell_type": "code",
   "execution_count": 65,
   "metadata": {},
   "outputs": [
    {
     "name": "stdout",
     "output_type": "stream",
     "text": [
      "('hello1', 5, 0.5)\n",
      "None\n",
      "()\n",
      "None\n"
     ]
    }
   ],
   "source": [
    "\"\"\" q3: create a class for tuple data extraction operation\"\"\"\n",
    "\n",
    "## 15th jan - Task List Assignments\n",
    "## Author: Darshita Paghadal\n",
    "## Q3: create a class for tuple data extraction operation\n",
    "\n",
    "import logging\n",
    "logging.basicConfig(filename='file_calss.log', level=logging.DEBUG, filemode='w', format=\"\"\"%(asctime)s %(levelname)s %(message)s\"\"\")\n",
    "\n",
    "class q3_tuples:\n",
    "    def __init__(self, tuples):\n",
    "        self.tuples = tuple(tuples)\n",
    "    \n",
    "    def extract_fn(self, startp, endp):\n",
    "\n",
    "        logging.info(\"this is start of extract fn\")\n",
    "        try:\n",
    "            logging.info(\"inside try block of extract fn\")\n",
    "            \n",
    "            return self.tuples[int(startp):int(endp)]\n",
    "\n",
    "        except Exception as e:\n",
    "            #print(e)\n",
    "            logging.error(\"there is some issue with extract fn\")\n",
    "            logging.error(e)\n",
    "            \n",
    "\n",
    "obj = q3_tuples((2,\"3\",\"hello1\",5,0.5,8))\n",
    "\n",
    "print(obj.extract_fn(2,5))\n",
    "\n",
    "print(obj.extract_fn(\"\",-1))\n",
    "\n",
    "print(obj.extract_fn(-1,3))\n",
    "\n",
    "print(obj.extract_fn(1,\"\"))\n",
    "\n",
    "\n",
    "\n",
    "class Tuple:\n",
    "    def __init__(self,t1):\n",
    "        self.t1=t1\n",
    "    def extract(self):\n",
    "            start=int(input('Enter the start index number'))\n",
    "            end=int(input('Enter the start index number'))\n",
    "            return self.t1[start:end]\n",
    "\n"
   ]
  },
  {
   "cell_type": "code",
   "execution_count": 66,
   "metadata": {},
   "outputs": [
    {
     "name": "stdout",
     "output_type": "stream",
     "text": [
      "[(12345, 'Mudit', 'Dehradun', 50), (12345, 'Mudit', 'Dehradun', 50), (12345, 'Mudit', 'Dehradun', 50), (12345, 'Mudit', 'Dehradun', 50), (12345, 'Mudit', 'Dehradun', 30)]\n"
     ]
    },
    {
     "ename": "ProgrammingError",
     "evalue": "1146 (42S02): Table 'mud.tab1' doesn't exist",
     "output_type": "error",
     "traceback": [
      "\u001b[1;31m---------------------------------------------------------------------------\u001b[0m",
      "\u001b[1;31mProgrammingError\u001b[0m                          Traceback (most recent call last)",
      "\u001b[1;32m~\\AppData\\Local\\Temp\\ipykernel_11364\\3328447956.py\u001b[0m in \u001b[0;36m<module>\u001b[1;34m\u001b[0m\n\u001b[0;32m     73\u001b[0m \u001b[0mdb1\u001b[0m\u001b[1;33m.\u001b[0m\u001b[0mdetails\u001b[0m\u001b[1;33m(\u001b[0m\u001b[1;34m\"select * from ineuron.tab2\"\u001b[0m\u001b[1;33m)\u001b[0m\u001b[1;33m\u001b[0m\u001b[1;33m\u001b[0m\u001b[0m\n\u001b[0;32m     74\u001b[0m \u001b[0mdb1\u001b[0m\u001b[1;33m.\u001b[0m\u001b[0mupdate\u001b[0m\u001b[1;33m(\u001b[0m\u001b[1;34m\"UPDATE ineuron.tab2 SET age = 50 where age = 30\"\u001b[0m\u001b[1;33m)\u001b[0m\u001b[1;33m\u001b[0m\u001b[1;33m\u001b[0m\u001b[0m\n\u001b[1;32m---> 75\u001b[1;33m \u001b[0mdb1\u001b[0m\u001b[1;33m.\u001b[0m\u001b[0mdetails\u001b[0m\u001b[1;33m(\u001b[0m\u001b[1;34m\"select * from mud.tab1\"\u001b[0m\u001b[1;33m)\u001b[0m\u001b[1;33m\u001b[0m\u001b[1;33m\u001b[0m\u001b[0m\n\u001b[0m\u001b[0;32m     76\u001b[0m \u001b[0mdb1\u001b[0m\u001b[1;33m.\u001b[0m\u001b[0mdelete\u001b[0m\u001b[1;33m(\u001b[0m\u001b[1;34m\"delete from ineuron.tab2 where age= 50\"\u001b[0m\u001b[1;33m)\u001b[0m\u001b[1;33m\u001b[0m\u001b[1;33m\u001b[0m\u001b[0m\n",
      "\u001b[1;32m~\\AppData\\Local\\Temp\\ipykernel_11364\\3328447956.py\u001b[0m in \u001b[0;36mdetails\u001b[1;34m(self, detail)\u001b[0m\n\u001b[0;32m     44\u001b[0m     \u001b[1;32mdef\u001b[0m \u001b[0mdetails\u001b[0m\u001b[1;33m(\u001b[0m\u001b[0mself\u001b[0m\u001b[1;33m,\u001b[0m \u001b[0mdetail\u001b[0m\u001b[1;33m)\u001b[0m\u001b[1;33m:\u001b[0m\u001b[1;33m\u001b[0m\u001b[1;33m\u001b[0m\u001b[0m\n\u001b[0;32m     45\u001b[0m         \u001b[0mself\u001b[0m\u001b[1;33m.\u001b[0m\u001b[0mdetail\u001b[0m\u001b[1;33m=\u001b[0m \u001b[0mdetail\u001b[0m\u001b[1;33m\u001b[0m\u001b[1;33m\u001b[0m\u001b[0m\n\u001b[1;32m---> 46\u001b[1;33m         \u001b[0mself\u001b[0m\u001b[1;33m.\u001b[0m\u001b[0mcursor\u001b[0m\u001b[1;33m.\u001b[0m\u001b[0mexecute\u001b[0m\u001b[1;33m(\u001b[0m\u001b[0mself\u001b[0m\u001b[1;33m.\u001b[0m\u001b[0mdetail\u001b[0m\u001b[1;33m)\u001b[0m\u001b[1;33m\u001b[0m\u001b[1;33m\u001b[0m\u001b[0m\n\u001b[0m\u001b[0;32m     47\u001b[0m         \u001b[0mprint\u001b[0m\u001b[1;33m(\u001b[0m\u001b[0mself\u001b[0m\u001b[1;33m.\u001b[0m\u001b[0mcursor\u001b[0m\u001b[1;33m.\u001b[0m\u001b[0mfetchall\u001b[0m\u001b[1;33m(\u001b[0m\u001b[1;33m)\u001b[0m\u001b[1;33m)\u001b[0m\u001b[1;33m\u001b[0m\u001b[1;33m\u001b[0m\u001b[0m\n\u001b[0;32m     48\u001b[0m \u001b[1;33m\u001b[0m\u001b[0m\n",
      "\u001b[1;32mf:\\anaconda3\\lib\\site-packages\\mysql\\connector\\cursor.py\u001b[0m in \u001b[0;36mexecute\u001b[1;34m(self, operation, params, multi)\u001b[0m\n\u001b[0;32m    549\u001b[0m         \u001b[1;32melse\u001b[0m\u001b[1;33m:\u001b[0m\u001b[1;33m\u001b[0m\u001b[1;33m\u001b[0m\u001b[0m\n\u001b[0;32m    550\u001b[0m             \u001b[1;32mtry\u001b[0m\u001b[1;33m:\u001b[0m\u001b[1;33m\u001b[0m\u001b[1;33m\u001b[0m\u001b[0m\n\u001b[1;32m--> 551\u001b[1;33m                 \u001b[0mself\u001b[0m\u001b[1;33m.\u001b[0m\u001b[0m_handle_result\u001b[0m\u001b[1;33m(\u001b[0m\u001b[0mself\u001b[0m\u001b[1;33m.\u001b[0m\u001b[0m_connection\u001b[0m\u001b[1;33m.\u001b[0m\u001b[0mcmd_query\u001b[0m\u001b[1;33m(\u001b[0m\u001b[0mstmt\u001b[0m\u001b[1;33m)\u001b[0m\u001b[1;33m)\u001b[0m\u001b[1;33m\u001b[0m\u001b[1;33m\u001b[0m\u001b[0m\n\u001b[0m\u001b[0;32m    552\u001b[0m             \u001b[1;32mexcept\u001b[0m \u001b[0merrors\u001b[0m\u001b[1;33m.\u001b[0m\u001b[0mInterfaceError\u001b[0m\u001b[1;33m:\u001b[0m\u001b[1;33m\u001b[0m\u001b[1;33m\u001b[0m\u001b[0m\n\u001b[0;32m    553\u001b[0m                 \u001b[1;32mif\u001b[0m \u001b[0mself\u001b[0m\u001b[1;33m.\u001b[0m\u001b[0m_connection\u001b[0m\u001b[1;33m.\u001b[0m\u001b[0m_have_next_result\u001b[0m\u001b[1;33m:\u001b[0m  \u001b[1;31m# pylint: disable=W0212\u001b[0m\u001b[1;33m\u001b[0m\u001b[1;33m\u001b[0m\u001b[0m\n",
      "\u001b[1;32mf:\\anaconda3\\lib\\site-packages\\mysql\\connector\\connection.py\u001b[0m in \u001b[0;36mcmd_query\u001b[1;34m(self, query, raw, buffered, raw_as_string)\u001b[0m\n\u001b[0;32m    488\u001b[0m         \u001b[1;32mif\u001b[0m \u001b[1;32mnot\u001b[0m \u001b[0misinstance\u001b[0m\u001b[1;33m(\u001b[0m\u001b[0mquery\u001b[0m\u001b[1;33m,\u001b[0m \u001b[0mbytes\u001b[0m\u001b[1;33m)\u001b[0m\u001b[1;33m:\u001b[0m\u001b[1;33m\u001b[0m\u001b[1;33m\u001b[0m\u001b[0m\n\u001b[0;32m    489\u001b[0m             \u001b[0mquery\u001b[0m \u001b[1;33m=\u001b[0m \u001b[0mquery\u001b[0m\u001b[1;33m.\u001b[0m\u001b[0mencode\u001b[0m\u001b[1;33m(\u001b[0m\u001b[1;34m'utf-8'\u001b[0m\u001b[1;33m)\u001b[0m\u001b[1;33m\u001b[0m\u001b[1;33m\u001b[0m\u001b[0m\n\u001b[1;32m--> 490\u001b[1;33m         \u001b[0mresult\u001b[0m \u001b[1;33m=\u001b[0m \u001b[0mself\u001b[0m\u001b[1;33m.\u001b[0m\u001b[0m_handle_result\u001b[0m\u001b[1;33m(\u001b[0m\u001b[0mself\u001b[0m\u001b[1;33m.\u001b[0m\u001b[0m_send_cmd\u001b[0m\u001b[1;33m(\u001b[0m\u001b[0mServerCmd\u001b[0m\u001b[1;33m.\u001b[0m\u001b[0mQUERY\u001b[0m\u001b[1;33m,\u001b[0m \u001b[0mquery\u001b[0m\u001b[1;33m)\u001b[0m\u001b[1;33m)\u001b[0m\u001b[1;33m\u001b[0m\u001b[1;33m\u001b[0m\u001b[0m\n\u001b[0m\u001b[0;32m    491\u001b[0m \u001b[1;33m\u001b[0m\u001b[0m\n\u001b[0;32m    492\u001b[0m         \u001b[1;32mif\u001b[0m \u001b[0mself\u001b[0m\u001b[1;33m.\u001b[0m\u001b[0m_have_next_result\u001b[0m\u001b[1;33m:\u001b[0m\u001b[1;33m\u001b[0m\u001b[1;33m\u001b[0m\u001b[0m\n",
      "\u001b[1;32mf:\\anaconda3\\lib\\site-packages\\mysql\\connector\\connection.py\u001b[0m in \u001b[0;36m_handle_result\u001b[1;34m(self, packet)\u001b[0m\n\u001b[0;32m    393\u001b[0m             \u001b[1;32mreturn\u001b[0m \u001b[0mself\u001b[0m\u001b[1;33m.\u001b[0m\u001b[0m_handle_eof\u001b[0m\u001b[1;33m(\u001b[0m\u001b[0mpacket\u001b[0m\u001b[1;33m)\u001b[0m\u001b[1;33m\u001b[0m\u001b[1;33m\u001b[0m\u001b[0m\n\u001b[0;32m    394\u001b[0m         \u001b[1;32melif\u001b[0m \u001b[0mpacket\u001b[0m\u001b[1;33m[\u001b[0m\u001b[1;36m4\u001b[0m\u001b[1;33m]\u001b[0m \u001b[1;33m==\u001b[0m \u001b[1;36m255\u001b[0m\u001b[1;33m:\u001b[0m\u001b[1;33m\u001b[0m\u001b[1;33m\u001b[0m\u001b[0m\n\u001b[1;32m--> 395\u001b[1;33m             \u001b[1;32mraise\u001b[0m \u001b[0merrors\u001b[0m\u001b[1;33m.\u001b[0m\u001b[0mget_exception\u001b[0m\u001b[1;33m(\u001b[0m\u001b[0mpacket\u001b[0m\u001b[1;33m)\u001b[0m\u001b[1;33m\u001b[0m\u001b[1;33m\u001b[0m\u001b[0m\n\u001b[0m\u001b[0;32m    396\u001b[0m \u001b[1;33m\u001b[0m\u001b[0m\n\u001b[0;32m    397\u001b[0m         \u001b[1;31m# We have a text result set\u001b[0m\u001b[1;33m\u001b[0m\u001b[1;33m\u001b[0m\u001b[0m\n",
      "\u001b[1;31mProgrammingError\u001b[0m: 1146 (42S02): Table 'mud.tab1' doesn't exist"
     ]
    }
   ],
   "source": [
    "\"\"\" q4: create a class to implement all insert, update,delete for mysql\"\"\"\n",
    "\n",
    "import mysql.connector\n",
    "\n",
    "class my_sql:\n",
    "\n",
    "    def __init__(self, host, user,passward):\n",
    "        self.host= host\n",
    "        self.user = user\n",
    "        self.passward= passward\n",
    "    \n",
    "    def get_conn(self):\n",
    "            self.mydb = mysql.connector.connect(host=self.host, user=self.user, password=self.passward)\n",
    "            return self.mydb\n",
    "        \n",
    "    def get_cursor(self):\n",
    "        self.cursor = self.mydb.cursor()\n",
    "        return self.cursor\n",
    "    \n",
    "    def database(self,db_name):\n",
    "        try:\n",
    "            self.db_name = db_name\n",
    "            return self.cursor.execute(f\"create database if not exists {self.db_name}\")\n",
    "        except Exception as e:\n",
    "            print(e)\n",
    "\n",
    "    def table(self,sqldata):\n",
    "        try:\n",
    "            self.sqldata = sqldata\n",
    "            self.cursor.execute(f'use {self.db_name}') \n",
    "            self.cursor.execute(f\"create table if not exists  {self.sqldata}\")\n",
    "        except Exception as e:\n",
    "            print(e)\n",
    "    \n",
    "    def insert(self,data):\n",
    "        try:    \n",
    "            self.data=data\n",
    "            self.cursor.execute(f'use ineuron')\n",
    "            self.cursor.execute(self.data)\n",
    "            self.mydb.commit()\n",
    "        except Exception as e:\n",
    "            print(e)\n",
    "\n",
    "    def details(self, detail):\n",
    "        self.detail= detail\n",
    "        self.cursor.execute(self.detail)\n",
    "        print(self.cursor.fetchall())\n",
    "\n",
    "    def update(self,new_update):\n",
    "        try:  \n",
    "            self.new_update = new_update\n",
    "            self.cursor.execute(self.new_update)\n",
    "            self.mydb.commit()\n",
    "        except Exception as e:\n",
    "            print(e)\n",
    "\n",
    "    def delete(self, dell):\n",
    "        try:\n",
    "            self.dell = dell\n",
    "            self.cursor.execute(self.dell)\n",
    "            self.mydb.commit()\n",
    "\n",
    "        except Exception as e:\n",
    "            print(e)\n",
    "\n",
    "db1= my_sql(\"localhost\", \"root\", \"\")\n",
    "db1.get_conn()\n",
    "db1.get_cursor()\n",
    "db1.database(\"ineuron\")\n",
    "\n",
    "db1.table(\"tab2(rollno INT(10) ,name VARCHAR(30) ,address VARCHAR(30) ,age INT(10) )\")\n",
    "db1.insert(\"insert into tab2 values(12345,'Mudit','Dehradun',30)\")\n",
    "db1.details(\"select * from ineuron.tab2\")\n",
    "db1.update(\"UPDATE ineuron.tab2 SET age = 50 where age = 30\")\n",
    "db1.details(\"select * from mud.tab1\")\n",
    "db1.delete(\"delete from ineuron.tab2 where age= 50\")"
   ]
  },
  {
   "cell_type": "code",
   "execution_count": null,
   "metadata": {},
   "outputs": [],
   "source": [
    "\"\"\"q6: create a calss to perform append and delete operation in file and inherit it in child class\"\"\"\n",
    "\n",
    "import logging\n",
    "\n",
    "logging.basicConfig(filename='file_calss.log', level=logging.DEBUG, filemode='w', format=\"\"\"%(asctime)s %(levelname)s %(message)\"\"\")\n",
    "\n",
    "class q6_filefn:\n",
    "    def __init__(self, filename):\n",
    "        self.filename = filename\n",
    "\n",
    "    def read(self):\n",
    "        logging.info(\"this is a start of a read operation\")\n",
    "        try:\n",
    "            logging.info(\"inside try block of read fn\")\n",
    "\n",
    "            with open(self.filename, \"r\") as fo:\n",
    "                str = fo.read()\n",
    "\n",
    "                logging.info(\"i m able to read the file\")\n",
    "                #print(f\"Read String is : {str}\")\n",
    "                # Close opend file\n",
    "                fo.close()\n",
    "                return str\n",
    "        except FileNotFoundError as e:\n",
    "            #print(e)\n",
    "            logging.error(\"there is some issue with read file operation\")\n",
    "            logging.error(e)\n",
    "\n",
    "    def write(self, txt):\n",
    "        logging.info(\"this is a start of a write operation\")\n",
    "        try:\n",
    "            with open(self.filename, \"a\") as fo:\n",
    "                fo.write(txt)\n",
    "                # Close opend file\n",
    "                fo.close()\n",
    "                logging.info(\"complete write operation\")\n",
    "                return\n",
    "        except Exception as e:\n",
    "            logging.error(\"there is some issue with write file operation\")\n",
    "            logging.error(e)\n",
    "            \n",
    "\n",
    "class child_filefn(q6_filefn):\n",
    "    def __init__(self, filename):\n",
    "        q6_filefn.__init__(self, filename)\n",
    "\n",
    "\n",
    "# obj = q6_filefn(\"abc.txt\")\n",
    "# #obj.write(\"Hello, This is text file created using pythong programming..\")\n",
    "# obj.write(\"Practice makes Perfect.. Keep it up..\")\n",
    "# obj.read()\n",
    "\n",
    "obj = child_filefn(\"abc1.txt\")\n",
    "obj.write(\"\\n Hello, This is text file created using pythong programming..\")\n",
    "obj.write(\"\\n Practice makes Perfect.. Keep it up..\")\n",
    "obj.read()\n"
   ]
  }
 ],
 "metadata": {
  "kernelspec": {
   "display_name": "Python 3.9.13 ('base')",
   "language": "python",
   "name": "python3"
  },
  "language_info": {
   "codemirror_mode": {
    "name": "ipython",
    "version": 3
   },
   "file_extension": ".py",
   "mimetype": "text/x-python",
   "name": "python",
   "nbconvert_exporter": "python",
   "pygments_lexer": "ipython3",
   "version": "3.9.13"
  },
  "orig_nbformat": 4,
  "vscode": {
   "interpreter": {
    "hash": "a4df7a6600e22bae99e6e8f837be5af686fd7a404512ca9c2620376f38fe7d31"
   }
  }
 },
 "nbformat": 4,
 "nbformat_minor": 2
}
