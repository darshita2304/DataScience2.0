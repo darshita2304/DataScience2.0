{
 "cells": [
  {
   "cell_type": "code",
   "execution_count": 1,
   "id": "409d7cdc",
   "metadata": {},
   "outputs": [
    {
     "name": "stdout",
     "output_type": "stream",
     "text": [
      "The Zen of Python, by Tim Peters\n",
      "\n",
      "Beautiful is better than ugly.\n",
      "Explicit is better than implicit.\n",
      "Simple is better than complex.\n",
      "Complex is better than complicated.\n",
      "Flat is better than nested.\n",
      "Sparse is better than dense.\n",
      "Readability counts.\n",
      "Special cases aren't special enough to break the rules.\n",
      "Although practicality beats purity.\n",
      "Errors should never pass silently.\n",
      "Unless explicitly silenced.\n",
      "In the face of ambiguity, refuse the temptation to guess.\n",
      "There should be one-- and preferably only one --obvious way to do it.\n",
      "Although that way may not be obvious at first unless you're Dutch.\n",
      "Now is better than never.\n",
      "Although never is often better than *right* now.\n",
      "If the implementation is hard to explain, it's a bad idea.\n",
      "If the implementation is easy to explain, it may be a good idea.\n",
      "Namespaces are one honking great idea -- let's do more of those!\n"
     ]
    }
   ],
   "source": [
    "import this"
   ]
  },
  {
   "cell_type": "code",
   "execution_count": 1,
   "id": "74b48c4d",
   "metadata": {},
   "outputs": [
    {
     "name": "stdout",
     "output_type": "stream",
     "text": [
      "this is my first program on jupyter\n"
     ]
    }
   ],
   "source": [
    "print (\"this is my first program on jupyter\")"
   ]
  },
  {
   "cell_type": "code",
   "execution_count": 2,
   "id": "b8e3631f",
   "metadata": {},
   "outputs": [
    {
     "name": "stdout",
     "output_type": "stream",
     "text": [
      "shift + tab will show u help of function..\n"
     ]
    }
   ],
   "source": [
    "print(\"shift + tab will show u help of function..\")"
   ]
  },
  {
   "cell_type": "code",
   "execution_count": 3,
   "id": "c82f413a",
   "metadata": {},
   "outputs": [],
   "source": [
    "a=7897\n"
   ]
  },
  {
   "cell_type": "code",
   "execution_count": 4,
   "id": "b7b02ba2",
   "metadata": {},
   "outputs": [],
   "source": [
    "b=98"
   ]
  },
  {
   "cell_type": "code",
   "execution_count": 5,
   "id": "74ac4c2f",
   "metadata": {},
   "outputs": [
    {
     "data": {
      "text/plain": [
       "int"
      ]
     },
     "execution_count": 5,
     "metadata": {},
     "output_type": "execute_result"
    }
   ],
   "source": [
    "type(a)"
   ]
  },
  {
   "cell_type": "code",
   "execution_count": 6,
   "id": "0d4dd1b5",
   "metadata": {},
   "outputs": [],
   "source": [
    "c=98.99\n"
   ]
  },
  {
   "cell_type": "code",
   "execution_count": 7,
   "id": "9ed6d223",
   "metadata": {},
   "outputs": [
    {
     "data": {
      "text/plain": [
       "float"
      ]
     },
     "execution_count": 7,
     "metadata": {},
     "output_type": "execute_result"
    }
   ],
   "source": [
    "type(c)"
   ]
  },
  {
   "cell_type": "code",
   "execution_count": 8,
   "id": "48cf18a3",
   "metadata": {},
   "outputs": [],
   "source": [
    "d = 6 + 5j"
   ]
  },
  {
   "cell_type": "code",
   "execution_count": 9,
   "id": "e794b90e",
   "metadata": {},
   "outputs": [
    {
     "data": {
      "text/plain": [
       "complex"
      ]
     },
     "execution_count": 9,
     "metadata": {},
     "output_type": "execute_result"
    }
   ],
   "source": [
    "type(d)"
   ]
  },
  {
   "cell_type": "code",
   "execution_count": 10,
   "id": "91a4898d",
   "metadata": {},
   "outputs": [
    {
     "data": {
      "text/plain": [
       "(6+5j)"
      ]
     },
     "execution_count": 10,
     "metadata": {},
     "output_type": "execute_result"
    }
   ],
   "source": [
    "d"
   ]
  },
  {
   "cell_type": "code",
   "execution_count": 11,
   "id": "b18bca2f",
   "metadata": {},
   "outputs": [
    {
     "data": {
      "text/plain": [
       "98.99"
      ]
     },
     "execution_count": 11,
     "metadata": {},
     "output_type": "execute_result"
    }
   ],
   "source": [
    "c"
   ]
  },
  {
   "cell_type": "code",
   "execution_count": 15,
   "id": "30f0df93",
   "metadata": {},
   "outputs": [],
   "source": [
    " bg = True"
   ]
  },
  {
   "cell_type": "code",
   "execution_count": 16,
   "id": "e34731b7",
   "metadata": {},
   "outputs": [
    {
     "data": {
      "text/plain": [
       "bool"
      ]
     },
     "execution_count": 16,
     "metadata": {},
     "output_type": "execute_result"
    }
   ],
   "source": [
    "type(bg)"
   ]
  },
  {
   "cell_type": "code",
   "execution_count": 17,
   "id": "8a362b8a",
   "metadata": {},
   "outputs": [],
   "source": [
    "a,b,c,d = 22,\"ad\",4.5,0j"
   ]
  },
  {
   "cell_type": "code",
   "execution_count": 18,
   "id": "860dfdce",
   "metadata": {},
   "outputs": [
    {
     "data": {
      "text/plain": [
       "complex"
      ]
     },
     "execution_count": 18,
     "metadata": {},
     "output_type": "execute_result"
    }
   ],
   "source": [
    "type(d)"
   ]
  },
  {
   "cell_type": "code",
   "execution_count": 20,
   "id": "772b63c1",
   "metadata": {},
   "outputs": [],
   "source": [
    "c = 4 + 8j"
   ]
  },
  {
   "cell_type": "code",
   "execution_count": 21,
   "id": "8286f85b",
   "metadata": {},
   "outputs": [
    {
     "data": {
      "text/plain": [
       "4.0"
      ]
     },
     "execution_count": 21,
     "metadata": {},
     "output_type": "execute_result"
    }
   ],
   "source": [
    "c.real"
   ]
  },
  {
   "cell_type": "code",
   "execution_count": 22,
   "id": "6431b289",
   "metadata": {},
   "outputs": [
    {
     "data": {
      "text/plain": [
       "8.0"
      ]
     },
     "execution_count": 22,
     "metadata": {},
     "output_type": "execute_result"
    }
   ],
   "source": [
    "c.imag"
   ]
  },
  {
   "cell_type": "code",
   "execution_count": 24,
   "id": "80b90064",
   "metadata": {},
   "outputs": [
    {
     "data": {
      "text/plain": [
       "<function complex.conjugate>"
      ]
     },
     "execution_count": 24,
     "metadata": {},
     "output_type": "execute_result"
    }
   ],
   "source": [
    "c.conjugate"
   ]
  },
  {
   "cell_type": "code",
   "execution_count": 25,
   "id": "988fd0b8",
   "metadata": {},
   "outputs": [
    {
     "data": {
      "text/plain": [
       "'ad44'"
      ]
     },
     "execution_count": 25,
     "metadata": {},
     "output_type": "execute_result"
    }
   ],
   "source": [
    " b + str(44)\n"
   ]
  },
  {
   "cell_type": "code",
   "execution_count": 26,
   "id": "d39be6e4",
   "metadata": {},
   "outputs": [
    {
     "data": {
      "text/plain": [
       "2"
      ]
     },
     "execution_count": 26,
     "metadata": {},
     "output_type": "execute_result"
    }
   ],
   "source": [
    "True + True"
   ]
  },
  {
   "cell_type": "code",
   "execution_count": 27,
   "id": "23f8b5e1",
   "metadata": {},
   "outputs": [
    {
     "data": {
      "text/plain": [
       "1"
      ]
     },
     "execution_count": 27,
     "metadata": {},
     "output_type": "execute_result"
    }
   ],
   "source": [
    "True + False"
   ]
  },
  {
   "cell_type": "code",
   "execution_count": 28,
   "id": "4289647c",
   "metadata": {},
   "outputs": [
    {
     "data": {
      "text/plain": [
       "1"
      ]
     },
     "execution_count": 28,
     "metadata": {},
     "output_type": "execute_result"
    }
   ],
   "source": [
    "True - False"
   ]
  },
  {
   "cell_type": "code",
   "execution_count": 30,
   "id": "27431bd5",
   "metadata": {},
   "outputs": [
    {
     "data": {
      "text/plain": [
       "0"
      ]
     },
     "execution_count": 30,
     "metadata": {},
     "output_type": "execute_result"
    }
   ],
   "source": [
    "1 - True"
   ]
  },
  {
   "cell_type": "code",
   "execution_count": 32,
   "id": "f8cf363e",
   "metadata": {},
   "outputs": [
    {
     "name": "stdout",
     "output_type": "stream",
     "text": [
      "45\n"
     ]
    }
   ],
   "source": [
    "a = input()"
   ]
  },
  {
   "cell_type": "code",
   "execution_count": 33,
   "id": "10f60a18",
   "metadata": {},
   "outputs": [
    {
     "ename": "TypeError",
     "evalue": "can only concatenate str (not \"int\") to str",
     "output_type": "error",
     "traceback": [
      "\u001b[1;31m---------------------------------------------------------------------------\u001b[0m",
      "\u001b[1;31mTypeError\u001b[0m                                 Traceback (most recent call last)",
      "\u001b[1;32m~\\AppData\\Local\\Temp\\ipykernel_21352\\1455523604.py\u001b[0m in \u001b[0;36m<module>\u001b[1;34m\u001b[0m\n\u001b[1;32m----> 1\u001b[1;33m \u001b[0mb\u001b[0m \u001b[1;33m=\u001b[0m \u001b[0ma\u001b[0m \u001b[1;33m+\u001b[0m \u001b[1;36m34\u001b[0m\u001b[1;33m\u001b[0m\u001b[1;33m\u001b[0m\u001b[0m\n\u001b[0m",
      "\u001b[1;31mTypeError\u001b[0m: can only concatenate str (not \"int\") to str"
     ]
    }
   ],
   "source": [
    "b = a + 34"
   ]
  },
  {
   "cell_type": "code",
   "execution_count": 34,
   "id": "4d35370d",
   "metadata": {},
   "outputs": [],
   "source": [
    "b = int(a) + 34"
   ]
  },
  {
   "cell_type": "code",
   "execution_count": 35,
   "id": "fd0d8ce9",
   "metadata": {},
   "outputs": [
    {
     "name": "stdout",
     "output_type": "stream",
     "text": [
      "79\n"
     ]
    }
   ],
   "source": [
    "print(b)"
   ]
  },
  {
   "cell_type": "code",
   "execution_count": 36,
   "id": "2a86c8ef",
   "metadata": {},
   "outputs": [
    {
     "data": {
      "text/plain": [
       "'F:\\\\Data Science 2.0'"
      ]
     },
     "execution_count": 36,
     "metadata": {},
     "output_type": "execute_result"
    }
   ],
   "source": [
    "pwd()"
   ]
  },
  {
   "cell_type": "code",
   "execution_count": null,
   "id": "1844b8eb",
   "metadata": {},
   "outputs": [],
   "source": []
  }
 ],
 "metadata": {
  "kernelspec": {
   "display_name": "Python 3 (ipykernel)",
   "language": "python",
   "name": "python3"
  },
  "language_info": {
   "codemirror_mode": {
    "name": "ipython",
    "version": 3
   },
   "file_extension": ".py",
   "mimetype": "text/x-python",
   "name": "python",
   "nbconvert_exporter": "python",
   "pygments_lexer": "ipython3",
   "version": "3.9.13"
  }
 },
 "nbformat": 4,
 "nbformat_minor": 5
}
