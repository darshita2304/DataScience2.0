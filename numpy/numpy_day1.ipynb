{
 "cells": [
  {
   "cell_type": "code",
   "execution_count": 3,
   "metadata": {},
   "outputs": [],
   "source": [
    "import numpy as np\n",
    "\n",
    "## numpy is used to convert all data in matrixes, data manipulations..\n"
   ]
  },
  {
   "cell_type": "code",
   "execution_count": 19,
   "metadata": {},
   "outputs": [
    {
     "data": {
      "text/plain": [
       "list"
      ]
     },
     "execution_count": 19,
     "metadata": {},
     "output_type": "execute_result"
    }
   ],
   "source": [
    "l = [1,2,3,4,4]\n",
    "type(l)"
   ]
  },
  {
   "cell_type": "code",
   "execution_count": 20,
   "metadata": {},
   "outputs": [],
   "source": [
    "arr = np.array(l) ## list is converted in to array"
   ]
  },
  {
   "cell_type": "code",
   "execution_count": 6,
   "metadata": {},
   "outputs": [
    {
     "data": {
      "text/plain": [
       "numpy.ndarray"
      ]
     },
     "execution_count": 6,
     "metadata": {},
     "output_type": "execute_result"
    }
   ],
   "source": [
    "type(arr)"
   ]
  },
  {
   "cell_type": "code",
   "execution_count": 8,
   "metadata": {},
   "outputs": [],
   "source": [
    "arr1 = np.array([[1,2,3],[4,5,6]]) #### 2d array -> x and y axies values presented in array format..."
   ]
  },
  {
   "cell_type": "code",
   "execution_count": 9,
   "metadata": {},
   "outputs": [
    {
     "data": {
      "text/plain": [
       "array([[1, 2, 3],\n",
       "       [4, 5, 6]])"
      ]
     },
     "execution_count": 9,
     "metadata": {},
     "output_type": "execute_result"
    }
   ],
   "source": [
    "arr1"
   ]
  },
  {
   "cell_type": "code",
   "execution_count": 1,
   "metadata": {},
   "outputs": [
    {
     "ename": "NameError",
     "evalue": "name 'np' is not defined",
     "output_type": "error",
     "traceback": [
      "\u001b[1;31m---------------------------------------------------------------------------\u001b[0m",
      "\u001b[1;31mNameError\u001b[0m                                 Traceback (most recent call last)",
      "\u001b[1;32m~\\AppData\\Local\\Temp\\ipykernel_9100\\980085548.py\u001b[0m in \u001b[0;36m<module>\u001b[1;34m\u001b[0m\n\u001b[0;32m      1\u001b[0m \u001b[1;31m### symentry dimension data should be there in list.......\u001b[0m\u001b[1;33m\u001b[0m\u001b[1;33m\u001b[0m\u001b[0m\n\u001b[0;32m      2\u001b[0m \u001b[1;33m\u001b[0m\u001b[0m\n\u001b[1;32m----> 3\u001b[1;33m \u001b[0marr2\u001b[0m \u001b[1;33m=\u001b[0m \u001b[0mnp\u001b[0m\u001b[1;33m.\u001b[0m\u001b[0marray\u001b[0m\u001b[1;33m(\u001b[0m\u001b[1;33m[\u001b[0m\u001b[1;33m[\u001b[0m\u001b[1;33m[\u001b[0m\u001b[1;36m1.\u001b[0m\u001b[1;33m,\u001b[0m \u001b[1;36m2.\u001b[0m\u001b[1;33m,\u001b[0m \u001b[1;36m3.\u001b[0m\u001b[1;33m]\u001b[0m\u001b[1;33m,\u001b[0m\u001b[1;33m[\u001b[0m\u001b[1;36m4.\u001b[0m\u001b[1;33m,\u001b[0m \u001b[1;36m0.5\u001b[0m\u001b[1;33m,\u001b[0m \u001b[1;36m6.\u001b[0m \u001b[1;33m]\u001b[0m\u001b[1;33m]\u001b[0m\u001b[1;33m]\u001b[0m\u001b[1;33m)\u001b[0m \u001b[1;31m### 3d array - x y and z(depth of 3d object) axis presentrd in array format\u001b[0m\u001b[1;33m\u001b[0m\u001b[1;33m\u001b[0m\u001b[0m\n\u001b[0m",
      "\u001b[1;31mNameError\u001b[0m: name 'np' is not defined"
     ]
    }
   ],
   "source": [
    "### symentry dimension data should be there in list.......\n",
    "\n",
    "arr2 = np.array([[[1., 2., 3.],[4., 0.5, 6. ]]]) ### 3d array - x y and z(depth of 3d object) axis presentrd in array format"
   ]
  },
  {
   "cell_type": "code",
   "execution_count": 12,
   "metadata": {},
   "outputs": [
    {
     "data": {
      "text/plain": [
       "1"
      ]
     },
     "execution_count": 12,
     "metadata": {},
     "output_type": "execute_result"
    }
   ],
   "source": [
    "arr.ndim"
   ]
  },
  {
   "cell_type": "code",
   "execution_count": 13,
   "metadata": {},
   "outputs": [
    {
     "data": {
      "text/plain": [
       "2"
      ]
     },
     "execution_count": 13,
     "metadata": {},
     "output_type": "execute_result"
    }
   ],
   "source": [
    "arr1.ndim"
   ]
  },
  {
   "cell_type": "code",
   "execution_count": 14,
   "metadata": {},
   "outputs": [
    {
     "data": {
      "text/plain": [
       "3"
      ]
     },
     "execution_count": 14,
     "metadata": {},
     "output_type": "execute_result"
    }
   ],
   "source": [
    "arr2.ndim"
   ]
  },
  {
   "cell_type": "code",
   "execution_count": 4,
   "metadata": {},
   "outputs": [],
   "source": [
    "arr2 = np.array([[[1., 2., 3.],[4., 0.5, 6. ]],[[1., 2., 3.],[4., 0.5, 6. ]],[[1., 2., 3.],[4., 0.5, 6. ]] ])"
   ]
  },
  {
   "cell_type": "code",
   "execution_count": 5,
   "metadata": {},
   "outputs": [
    {
     "data": {
      "text/plain": [
       "array([[[1. , 2. , 3. ],\n",
       "        [4. , 0.5, 6. ]],\n",
       "\n",
       "       [[1. , 2. , 3. ],\n",
       "        [4. , 0.5, 6. ]],\n",
       "\n",
       "       [[1. , 2. , 3. ],\n",
       "        [4. , 0.5, 6. ]]])"
      ]
     },
     "execution_count": 5,
     "metadata": {},
     "output_type": "execute_result"
    }
   ],
   "source": [
    "arr2"
   ]
  },
  {
   "cell_type": "code",
   "execution_count": 6,
   "metadata": {},
   "outputs": [
    {
     "data": {
      "text/plain": [
       "3"
      ]
     },
     "execution_count": 6,
     "metadata": {},
     "output_type": "execute_result"
    }
   ],
   "source": [
    "## 3 d array is combination of 2d on different axies as 2d records are presented on pages of book(3d example..)\n",
    "arr2.ndim"
   ]
  },
  {
   "cell_type": "code",
   "execution_count": 7,
   "metadata": {},
   "outputs": [
    {
     "data": {
      "text/plain": [
       "array([1, 2, 3, 4, 5])"
      ]
     },
     "execution_count": 7,
     "metadata": {},
     "output_type": "execute_result"
    }
   ],
   "source": [
    "l =[1,2,3,4,5]\n",
    "np.asarray(l) # convert list as array in 1-d"
   ]
  },
  {
   "cell_type": "code",
   "execution_count": 15,
   "metadata": {},
   "outputs": [
    {
     "data": {
      "text/plain": [
       "matrix([[1, 2, 3, 4, 5]])"
      ]
     },
     "execution_count": 15,
     "metadata": {},
     "output_type": "execute_result"
    }
   ],
   "source": [
    "m = np.matrix(l) ## matrix will create as 2d array.. u see [[ ]]\n",
    "m"
   ]
  },
  {
   "cell_type": "code",
   "execution_count": 14,
   "metadata": {},
   "outputs": [
    {
     "data": {
      "text/plain": [
       "matrix([[1, 2, 3, 4, 5]])"
      ]
     },
     "execution_count": 14,
     "metadata": {},
     "output_type": "execute_result"
    }
   ],
   "source": [
    "np.asanyarray(m)"
   ]
  },
  {
   "cell_type": "code",
   "execution_count": 17,
   "metadata": {},
   "outputs": [
    {
     "data": {
      "text/plain": [
       "array([1, 2, 3, 4, 5])"
      ]
     },
     "execution_count": 17,
     "metadata": {},
     "output_type": "execute_result"
    }
   ],
   "source": [
    "np.asanyarray(l)"
   ]
  },
  {
   "cell_type": "code",
   "execution_count": 21,
   "metadata": {},
   "outputs": [],
   "source": [
    "arr = np.array(l) ## list is converted in to array"
   ]
  },
  {
   "cell_type": "code",
   "execution_count": 22,
   "metadata": {},
   "outputs": [],
   "source": [
    "a1=arr ## this is called shawllo copy. mutable refelection of changes will be in both cariable.. stored in same memory.."
   ]
  },
  {
   "cell_type": "code",
   "execution_count": 23,
   "metadata": {},
   "outputs": [
    {
     "data": {
      "text/plain": [
       "array([1, 2, 3, 4, 4])"
      ]
     },
     "execution_count": 23,
     "metadata": {},
     "output_type": "execute_result"
    }
   ],
   "source": [
    "a1"
   ]
  },
  {
   "cell_type": "code",
   "execution_count": 24,
   "metadata": {},
   "outputs": [
    {
     "data": {
      "text/plain": [
       "1"
      ]
     },
     "execution_count": 24,
     "metadata": {},
     "output_type": "execute_result"
    }
   ],
   "source": [
    "arr[0]"
   ]
  },
  {
   "cell_type": "code",
   "execution_count": 25,
   "metadata": {},
   "outputs": [
    {
     "data": {
      "text/plain": [
       "array([10,  2,  3,  4,  4])"
      ]
     },
     "execution_count": 25,
     "metadata": {},
     "output_type": "execute_result"
    }
   ],
   "source": [
    "arr[0]=10 \n",
    "a1"
   ]
  },
  {
   "cell_type": "code",
   "execution_count": 26,
   "metadata": {},
   "outputs": [
    {
     "data": {
      "text/plain": [
       "array([10,  2,  3, 50,  4])"
      ]
     },
     "execution_count": 26,
     "metadata": {},
     "output_type": "execute_result"
    }
   ],
   "source": [
    "a1[3] = 50\n",
    "arr"
   ]
  },
  {
   "cell_type": "code",
   "execution_count": 29,
   "metadata": {},
   "outputs": [
    {
     "data": {
      "text/plain": [
       "array([10,  2,  3, 50,  4])"
      ]
     },
     "execution_count": 29,
     "metadata": {},
     "output_type": "execute_result"
    }
   ],
   "source": [
    "## arrays are non mutable....... -- this is example of deep copy\n",
    "a2 = np.copy(a1)\n",
    "a2"
   ]
  },
  {
   "cell_type": "code",
   "execution_count": 30,
   "metadata": {},
   "outputs": [
    {
     "data": {
      "text/plain": [
       "array([10,  2, 30, 50,  4])"
      ]
     },
     "execution_count": 30,
     "metadata": {},
     "output_type": "execute_result"
    }
   ],
   "source": [
    "a2[2] = 30\n",
    "a2"
   ]
  },
  {
   "cell_type": "code",
   "execution_count": 31,
   "metadata": {},
   "outputs": [
    {
     "data": {
      "text/plain": [
       "array([10,  2,  3, 50,  4])"
      ]
     },
     "execution_count": 31,
     "metadata": {},
     "output_type": "execute_result"
    }
   ],
   "source": [
    "a1"
   ]
  },
  {
   "cell_type": "code",
   "execution_count": 33,
   "metadata": {},
   "outputs": [
    {
     "data": {
      "text/plain": [
       "array([[ True, False, False, False],\n",
       "       [False,  True, False, False],\n",
       "       [False, False,  True, False]])"
      ]
     },
     "execution_count": 33,
     "metadata": {},
     "output_type": "execute_result"
    }
   ],
   "source": [
    "## used to generate data .... 3 rows and 4 column rander data based on equations\n",
    "np.fromfunction(lambda i,j : i==j,(3,4))"
   ]
  },
  {
   "cell_type": "code",
   "execution_count": 34,
   "metadata": {},
   "outputs": [
    {
     "data": {
      "text/plain": [
       "array([[0.94663374, 0.08867626, 0.00606067],\n",
       "       [0.37865261, 0.10650569, 0.19727374]])"
      ]
     },
     "execution_count": 34,
     "metadata": {},
     "output_type": "execute_result"
    }
   ],
   "source": [
    "np.random.rand(2,3) ### 2 rows and 3 column to generate random data"
   ]
  },
  {
   "cell_type": "code",
   "execution_count": 36,
   "metadata": {},
   "outputs": [
    {
     "data": {
      "text/plain": [
       "array([[[0.04006579, 0.13166196],\n",
       "        [0.59806629, 0.18648748],\n",
       "        [0.42994352, 0.72238688]],\n",
       "\n",
       "       [[0.06231749, 0.98341291],\n",
       "        [0.5512784 , 0.41640972],\n",
       "        [0.65770488, 0.13207297]],\n",
       "\n",
       "       [[0.85712704, 0.04199653],\n",
       "        [0.47773902, 0.92669384],\n",
       "        [0.8328611 , 0.06914654]],\n",
       "\n",
       "       [[0.47082871, 0.8429277 ],\n",
       "        [0.21853278, 0.40636608],\n",
       "        [0.23383148, 0.56154364]],\n",
       "\n",
       "       [[0.67916408, 0.44265032],\n",
       "        [0.0682316 , 0.73043815],\n",
       "        [0.45688673, 0.18770142]]])"
      ]
     },
     "execution_count": 36,
     "metadata": {},
     "output_type": "execute_result"
    }
   ],
   "source": [
    "np.random.rand(5,3,2) #### 3x2 2d array in 5 rows i.e 3d array"
   ]
  },
  {
   "cell_type": "code",
   "execution_count": 37,
   "metadata": {},
   "outputs": [
    {
     "data": {
      "text/plain": [
       "array([[[0.88145752, 0.2251765 , 0.75360285, 0.79773817],\n",
       "        [0.09888093, 0.06765381, 0.31756555, 0.55683746],\n",
       "        [0.59075156, 0.81103325, 0.66832464, 0.85367701],\n",
       "        [0.83654396, 0.21898188, 0.85543677, 0.74199074]],\n",
       "\n",
       "       [[0.08856335, 0.79019698, 0.35449036, 0.68464373],\n",
       "        [0.34499046, 0.23674604, 0.38737713, 0.86197522],\n",
       "        [0.90376767, 0.9334759 , 0.84073292, 0.08886323],\n",
       "        [0.50269512, 0.69124877, 0.93490947, 0.8815965 ]]])"
      ]
     },
     "execution_count": 37,
     "metadata": {},
     "output_type": "execute_result"
    }
   ],
   "source": [
    "np.random.rand(2,4,4) "
   ]
  },
  {
   "cell_type": "code",
   "execution_count": 38,
   "metadata": {},
   "outputs": [
    {
     "data": {
      "text/plain": [
       "array([[[0.75757103, 0.376302  , 0.881944  , 0.56956974],\n",
       "        [0.25675924, 0.52318544, 0.62912022, 0.60640077],\n",
       "        [0.77892154, 0.19363649, 0.41650712, 0.63184631],\n",
       "        [0.88507426, 0.93213078, 0.15312322, 0.620817  ]],\n",
       "\n",
       "       [[0.32538543, 0.1143745 , 0.65005579, 0.14611653],\n",
       "        [0.20005129, 0.73606424, 0.53889992, 0.34908699],\n",
       "        [0.54158568, 0.52490419, 0.75241956, 0.07996313],\n",
       "        [0.50124774, 0.93804707, 0.50444925, 0.39265417]],\n",
       "\n",
       "       [[0.69567424, 0.95287663, 0.41580443, 0.78741449],\n",
       "        [0.0340637 , 0.51070943, 0.56943421, 0.23950408],\n",
       "        [0.3840125 , 0.67633871, 0.65721522, 0.97029225],\n",
       "        [0.7526173 , 0.05216415, 0.85275997, 0.32416423]]])"
      ]
     },
     "execution_count": 38,
     "metadata": {},
     "output_type": "execute_result"
    }
   ],
   "source": [
    "np.random.rand(3,4,4) "
   ]
  },
  {
   "cell_type": "code",
   "execution_count": 39,
   "metadata": {},
   "outputs": [
    {
     "data": {
      "text/plain": [
       "array([[[[0.79798848, 0.83716807],\n",
       "         [0.77007208, 0.11808569],\n",
       "         [0.00921259, 0.95210835],\n",
       "         [0.81350403, 0.20824261]],\n",
       "\n",
       "        [[0.47794584, 0.36731141],\n",
       "         [0.42032463, 0.58697865],\n",
       "         [0.97243387, 0.39256107],\n",
       "         [0.71231467, 0.16048661]],\n",
       "\n",
       "        [[0.21373695, 0.05138559],\n",
       "         [0.7467637 , 0.54695999],\n",
       "         [0.58038579, 0.01428268],\n",
       "         [0.06970264, 0.26502018]],\n",
       "\n",
       "        [[0.68975584, 0.7319749 ],\n",
       "         [0.60354462, 0.35827355],\n",
       "         [0.52334465, 0.15880955],\n",
       "         [0.5501996 , 0.0450923 ]]],\n",
       "\n",
       "\n",
       "       [[[0.98657757, 0.04015232],\n",
       "         [0.91309222, 0.57641359],\n",
       "         [0.36747816, 0.1781216 ],\n",
       "         [0.14647214, 0.15304569]],\n",
       "\n",
       "        [[0.65661858, 0.92622407],\n",
       "         [0.29880668, 0.56891131],\n",
       "         [0.70236423, 0.33394687],\n",
       "         [0.26604501, 0.29638716]],\n",
       "\n",
       "        [[0.0812027 , 0.26283826],\n",
       "         [0.35493587, 0.66551288],\n",
       "         [0.42827534, 0.08724528],\n",
       "         [0.73540245, 0.63862887]],\n",
       "\n",
       "        [[0.57823112, 0.79773234],\n",
       "         [0.76284198, 0.40540615],\n",
       "         [0.47669492, 0.80060171],\n",
       "         [0.67883897, 0.18444882]]],\n",
       "\n",
       "\n",
       "       [[[0.48138003, 0.09367562],\n",
       "         [0.72782297, 0.49113277],\n",
       "         [0.87947897, 0.98802269],\n",
       "         [0.81677433, 0.31253261]],\n",
       "\n",
       "        [[0.85520266, 0.79356277],\n",
       "         [0.59962523, 0.12754512],\n",
       "         [0.77101934, 0.9408069 ],\n",
       "         [0.98842297, 0.66742803]],\n",
       "\n",
       "        [[0.58576187, 0.95277821],\n",
       "         [0.89935253, 0.45213331],\n",
       "         [0.98508151, 0.28525765],\n",
       "         [0.75790542, 0.08268636]],\n",
       "\n",
       "        [[0.11094032, 0.19301602],\n",
       "         [0.9657365 , 0.98226501],\n",
       "         [0.94530243, 0.32398265],\n",
       "         [0.43652196, 0.97776564]]]])"
      ]
     },
     "execution_count": 39,
     "metadata": {},
     "output_type": "execute_result"
    }
   ],
   "source": [
    "np.random.rand(3,4,4,2) # 4d array "
   ]
  },
  {
   "cell_type": "code",
   "execution_count": 40,
   "metadata": {},
   "outputs": [
    {
     "data": {
      "text/plain": [
       "array([[[ 0.83172454,  0.57485722, -1.3801431 , -0.03920608],\n",
       "        [-0.2767303 ,  0.05314848,  0.35400877,  1.38805814],\n",
       "        [ 0.07657031, -0.2020136 ,  1.20343667, -0.34481343],\n",
       "        [ 0.94205912,  0.62285217,  0.79431428, -0.15785916]],\n",
       "\n",
       "       [[-2.70552668, -0.01994142,  1.35935439,  0.28706192],\n",
       "        [ 1.67962479,  1.13031758,  1.78869802,  1.14331535],\n",
       "        [-0.27712631,  0.56312557,  1.76664613, -0.92206703],\n",
       "        [ 1.37157167, -1.42166372,  0.18461354,  0.75130137]],\n",
       "\n",
       "       [[ 0.59201646,  0.44239507, -0.95576674, -1.30185861],\n",
       "        [ 0.24176194, -0.77741045, -0.40923246, -0.12510785],\n",
       "        [-0.11040359, -0.0402393 , -0.75507652,  0.15806395],\n",
       "        [-2.42535478, -0.46475718,  0.18762589, -0.38311205]]])"
      ]
     },
     "execution_count": 40,
     "metadata": {},
     "output_type": "execute_result"
    }
   ],
   "source": [
    "np.random.randn(3,4,4) # generate data based on standard normal distribution that it mean 0 to std 1 "
   ]
  },
  {
   "cell_type": "code",
   "execution_count": 42,
   "metadata": {},
   "outputs": [
    {
     "data": {
      "text/plain": [
       "array([[7, 7, 9, 6],\n",
       "       [1, 4, 0, 2],\n",
       "       [9, 5, 4, 6],\n",
       "       [2, 2, 9, 6]])"
      ]
     },
     "execution_count": 42,
     "metadata": {},
     "output_type": "execute_result"
    }
   ],
   "source": [
    "np.random.randint(0,10,(4,4)) ## (min, max,  2d array size) generate data as int... "
   ]
  },
  {
   "cell_type": "code",
   "execution_count": 43,
   "metadata": {},
   "outputs": [
    {
     "data": {
      "text/plain": [
       "array([[[8, 9],\n",
       "        [3, 2],\n",
       "        [1, 1],\n",
       "        [0, 9]],\n",
       "\n",
       "       [[8, 7],\n",
       "        [1, 4],\n",
       "        [2, 1],\n",
       "        [0, 1]],\n",
       "\n",
       "       [[3, 7],\n",
       "        [9, 3],\n",
       "        [9, 2],\n",
       "        [7, 6]],\n",
       "\n",
       "       [[5, 3],\n",
       "        [1, 9],\n",
       "        [1, 0],\n",
       "        [1, 4]]])"
      ]
     },
     "execution_count": 43,
     "metadata": {},
     "output_type": "execute_result"
    }
   ],
   "source": [
    "np.random.randint(0,10,(4,4,2)) ### 3d array"
   ]
  },
  {
   "cell_type": "code",
   "execution_count": 44,
   "metadata": {},
   "outputs": [],
   "source": [
    "d = np.random.randn(3,4)"
   ]
  },
  {
   "cell_type": "code",
   "execution_count": 45,
   "metadata": {},
   "outputs": [],
   "source": [
    "import pandas as pd"
   ]
  },
  {
   "cell_type": "code",
   "execution_count": 46,
   "metadata": {},
   "outputs": [
    {
     "data": {
      "text/html": [
       "<div>\n",
       "<style scoped>\n",
       "    .dataframe tbody tr th:only-of-type {\n",
       "        vertical-align: middle;\n",
       "    }\n",
       "\n",
       "    .dataframe tbody tr th {\n",
       "        vertical-align: top;\n",
       "    }\n",
       "\n",
       "    .dataframe thead th {\n",
       "        text-align: right;\n",
       "    }\n",
       "</style>\n",
       "<table border=\"1\" class=\"dataframe\">\n",
       "  <thead>\n",
       "    <tr style=\"text-align: right;\">\n",
       "      <th></th>\n",
       "      <th>0</th>\n",
       "      <th>1</th>\n",
       "      <th>2</th>\n",
       "      <th>3</th>\n",
       "    </tr>\n",
       "  </thead>\n",
       "  <tbody>\n",
       "    <tr>\n",
       "      <th>0</th>\n",
       "      <td>-0.465764</td>\n",
       "      <td>0.453772</td>\n",
       "      <td>-0.187656</td>\n",
       "      <td>-1.099683</td>\n",
       "    </tr>\n",
       "    <tr>\n",
       "      <th>1</th>\n",
       "      <td>-1.206286</td>\n",
       "      <td>-1.193232</td>\n",
       "      <td>1.576218</td>\n",
       "      <td>-0.657408</td>\n",
       "    </tr>\n",
       "    <tr>\n",
       "      <th>2</th>\n",
       "      <td>1.388199</td>\n",
       "      <td>0.475381</td>\n",
       "      <td>-0.110092</td>\n",
       "      <td>-1.036634</td>\n",
       "    </tr>\n",
       "  </tbody>\n",
       "</table>\n",
       "</div>"
      ],
      "text/plain": [
       "          0         1         2         3\n",
       "0 -0.465764  0.453772 -0.187656 -1.099683\n",
       "1 -1.206286 -1.193232  1.576218 -0.657408\n",
       "2  1.388199  0.475381 -0.110092 -1.036634"
      ]
     },
     "execution_count": 46,
     "metadata": {},
     "output_type": "execute_result"
    }
   ],
   "source": [
    "pd.DataFrame(d) # 2d in dataframe bcas it in 2d"
   ]
  },
  {
   "cell_type": "code",
   "execution_count": 47,
   "metadata": {},
   "outputs": [],
   "source": [
    "d = np.random.randn(3,4,2)"
   ]
  },
  {
   "cell_type": "code",
   "execution_count": 48,
   "metadata": {},
   "outputs": [
    {
     "data": {
      "text/plain": [
       "array([[[ 0.52690988,  0.41059595],\n",
       "        [-0.30106866,  1.11671369],\n",
       "        [-0.0917721 , -2.05022557],\n",
       "        [ 0.07693024,  1.25382783]],\n",
       "\n",
       "       [[ 0.19008869, -2.06297689],\n",
       "        [-0.97101273, -0.62041389],\n",
       "        [ 2.02520751,  0.44987289],\n",
       "        [ 1.3290434 , -0.93932275]],\n",
       "\n",
       "       [[-0.02877119, -0.45358995],\n",
       "        [-0.56254019, -0.24865143],\n",
       "        [-0.12082115, -0.30481282],\n",
       "        [-0.66848451, -0.77962636]]])"
      ]
     },
     "execution_count": 48,
     "metadata": {},
     "output_type": "execute_result"
    }
   ],
   "source": [
    "d"
   ]
  },
  {
   "cell_type": "code",
   "execution_count": 49,
   "metadata": {},
   "outputs": [
    {
     "ename": "ValueError",
     "evalue": "Must pass 2-d input. shape=(3, 4, 2)",
     "output_type": "error",
     "traceback": [
      "\u001b[1;31m---------------------------------------------------------------------------\u001b[0m",
      "\u001b[1;31mValueError\u001b[0m                                Traceback (most recent call last)",
      "\u001b[1;32m~\\AppData\\Local\\Temp\\ipykernel_9100\\2567112034.py\u001b[0m in \u001b[0;36m<module>\u001b[1;34m\u001b[0m\n\u001b[1;32m----> 1\u001b[1;33m \u001b[0mpd\u001b[0m\u001b[1;33m.\u001b[0m\u001b[0mDataFrame\u001b[0m\u001b[1;33m(\u001b[0m\u001b[0md\u001b[0m\u001b[1;33m)\u001b[0m\u001b[1;33m\u001b[0m\u001b[1;33m\u001b[0m\u001b[0m\n\u001b[0m",
      "\u001b[1;32mf:\\anaconda3\\lib\\site-packages\\pandas\\core\\frame.py\u001b[0m in \u001b[0;36m__init__\u001b[1;34m(self, data, index, columns, dtype, copy)\u001b[0m\n\u001b[0;32m    692\u001b[0m                 )\n\u001b[0;32m    693\u001b[0m             \u001b[1;32melse\u001b[0m\u001b[1;33m:\u001b[0m\u001b[1;33m\u001b[0m\u001b[1;33m\u001b[0m\u001b[0m\n\u001b[1;32m--> 694\u001b[1;33m                 mgr = ndarray_to_mgr(\n\u001b[0m\u001b[0;32m    695\u001b[0m                     \u001b[0mdata\u001b[0m\u001b[1;33m,\u001b[0m\u001b[1;33m\u001b[0m\u001b[1;33m\u001b[0m\u001b[0m\n\u001b[0;32m    696\u001b[0m                     \u001b[0mindex\u001b[0m\u001b[1;33m,\u001b[0m\u001b[1;33m\u001b[0m\u001b[1;33m\u001b[0m\u001b[0m\n",
      "\u001b[1;32mf:\\anaconda3\\lib\\site-packages\\pandas\\core\\internals\\construction.py\u001b[0m in \u001b[0;36mndarray_to_mgr\u001b[1;34m(values, index, columns, dtype, copy, typ)\u001b[0m\n\u001b[0;32m    329\u001b[0m         \u001b[1;31m# by definition an array here\u001b[0m\u001b[1;33m\u001b[0m\u001b[1;33m\u001b[0m\u001b[0m\n\u001b[0;32m    330\u001b[0m         \u001b[1;31m# the dtypes will be coerced to a single dtype\u001b[0m\u001b[1;33m\u001b[0m\u001b[1;33m\u001b[0m\u001b[0m\n\u001b[1;32m--> 331\u001b[1;33m         \u001b[0mvalues\u001b[0m \u001b[1;33m=\u001b[0m \u001b[0m_prep_ndarray\u001b[0m\u001b[1;33m(\u001b[0m\u001b[0mvalues\u001b[0m\u001b[1;33m,\u001b[0m \u001b[0mcopy\u001b[0m\u001b[1;33m=\u001b[0m\u001b[0mcopy_on_sanitize\u001b[0m\u001b[1;33m)\u001b[0m\u001b[1;33m\u001b[0m\u001b[1;33m\u001b[0m\u001b[0m\n\u001b[0m\u001b[0;32m    332\u001b[0m \u001b[1;33m\u001b[0m\u001b[0m\n\u001b[0;32m    333\u001b[0m     \u001b[1;32mif\u001b[0m \u001b[0mdtype\u001b[0m \u001b[1;32mis\u001b[0m \u001b[1;32mnot\u001b[0m \u001b[1;32mNone\u001b[0m \u001b[1;32mand\u001b[0m \u001b[1;32mnot\u001b[0m \u001b[0mis_dtype_equal\u001b[0m\u001b[1;33m(\u001b[0m\u001b[0mvalues\u001b[0m\u001b[1;33m.\u001b[0m\u001b[0mdtype\u001b[0m\u001b[1;33m,\u001b[0m \u001b[0mdtype\u001b[0m\u001b[1;33m)\u001b[0m\u001b[1;33m:\u001b[0m\u001b[1;33m\u001b[0m\u001b[1;33m\u001b[0m\u001b[0m\n",
      "\u001b[1;32mf:\\anaconda3\\lib\\site-packages\\pandas\\core\\internals\\construction.py\u001b[0m in \u001b[0;36m_prep_ndarray\u001b[1;34m(values, copy)\u001b[0m\n\u001b[0;32m    589\u001b[0m         \u001b[0mvalues\u001b[0m \u001b[1;33m=\u001b[0m \u001b[0mvalues\u001b[0m\u001b[1;33m.\u001b[0m\u001b[0mreshape\u001b[0m\u001b[1;33m(\u001b[0m\u001b[1;33m(\u001b[0m\u001b[0mvalues\u001b[0m\u001b[1;33m.\u001b[0m\u001b[0mshape\u001b[0m\u001b[1;33m[\u001b[0m\u001b[1;36m0\u001b[0m\u001b[1;33m]\u001b[0m\u001b[1;33m,\u001b[0m \u001b[1;36m1\u001b[0m\u001b[1;33m)\u001b[0m\u001b[1;33m)\u001b[0m\u001b[1;33m\u001b[0m\u001b[1;33m\u001b[0m\u001b[0m\n\u001b[0;32m    590\u001b[0m     \u001b[1;32melif\u001b[0m \u001b[0mvalues\u001b[0m\u001b[1;33m.\u001b[0m\u001b[0mndim\u001b[0m \u001b[1;33m!=\u001b[0m \u001b[1;36m2\u001b[0m\u001b[1;33m:\u001b[0m\u001b[1;33m\u001b[0m\u001b[1;33m\u001b[0m\u001b[0m\n\u001b[1;32m--> 591\u001b[1;33m         \u001b[1;32mraise\u001b[0m \u001b[0mValueError\u001b[0m\u001b[1;33m(\u001b[0m\u001b[1;34mf\"Must pass 2-d input. shape={values.shape}\"\u001b[0m\u001b[1;33m)\u001b[0m\u001b[1;33m\u001b[0m\u001b[1;33m\u001b[0m\u001b[0m\n\u001b[0m\u001b[0;32m    592\u001b[0m \u001b[1;33m\u001b[0m\u001b[0m\n\u001b[0;32m    593\u001b[0m     \u001b[1;32mreturn\u001b[0m \u001b[0mvalues\u001b[0m\u001b[1;33m\u001b[0m\u001b[1;33m\u001b[0m\u001b[0m\n",
      "\u001b[1;31mValueError\u001b[0m: Must pass 2-d input. shape=(3, 4, 2)"
     ]
    }
   ],
   "source": [
    "pd.DataFrame(d) ### 2d cant be converted into dataframe which is 2d"
   ]
  },
  {
   "cell_type": "code",
   "execution_count": 50,
   "metadata": {},
   "outputs": [
    {
     "data": {
      "text/plain": [
       "array([[ 0.52690988,  0.41059595],\n",
       "       [-0.30106866,  1.11671369],\n",
       "       [-0.0917721 , -2.05022557],\n",
       "       [ 0.07693024,  1.25382783],\n",
       "       [ 0.19008869, -2.06297689],\n",
       "       [-0.97101273, -0.62041389],\n",
       "       [ 2.02520751,  0.44987289],\n",
       "       [ 1.3290434 , -0.93932275],\n",
       "       [-0.02877119, -0.45358995],\n",
       "       [-0.56254019, -0.24865143],\n",
       "       [-0.12082115, -0.30481282],\n",
       "       [-0.66848451, -0.77962636]])"
      ]
     },
     "execution_count": 50,
     "metadata": {},
     "output_type": "execute_result"
    }
   ],
   "source": [
    "# so 3d need to convert in 2d so reshape function can be used..\n",
    "d.reshape(12,2) ### bcas d has 24 elements in d so multiply of 24 can be used as a reshape..."
   ]
  },
  {
   "cell_type": "code",
   "execution_count": 51,
   "metadata": {},
   "outputs": [
    {
     "data": {
      "text/plain": [
       "array([[ 0.52690988,  0.41059595, -0.30106866],\n",
       "       [ 1.11671369, -0.0917721 , -2.05022557],\n",
       "       [ 0.07693024,  1.25382783,  0.19008869],\n",
       "       [-2.06297689, -0.97101273, -0.62041389],\n",
       "       [ 2.02520751,  0.44987289,  1.3290434 ],\n",
       "       [-0.93932275, -0.02877119, -0.45358995],\n",
       "       [-0.56254019, -0.24865143, -0.12082115],\n",
       "       [-0.30481282, -0.66848451, -0.77962636]])"
      ]
     },
     "execution_count": 51,
     "metadata": {},
     "output_type": "execute_result"
    }
   ],
   "source": [
    "d.reshape(8,-1) ### convert into internally possible dimension..."
   ]
  },
  {
   "cell_type": "code",
   "execution_count": null,
   "metadata": {},
   "outputs": [],
   "source": []
  }
 ],
 "metadata": {
  "kernelspec": {
   "display_name": "Python 3.9.13 ('base')",
   "language": "python",
   "name": "python3"
  },
  "language_info": {
   "codemirror_mode": {
    "name": "ipython",
    "version": 3
   },
   "file_extension": ".py",
   "mimetype": "text/x-python",
   "name": "python",
   "nbconvert_exporter": "python",
   "pygments_lexer": "ipython3",
   "version": "3.9.13"
  },
  "orig_nbformat": 4,
  "vscode": {
   "interpreter": {
    "hash": "a4df7a6600e22bae99e6e8f837be5af686fd7a404512ca9c2620376f38fe7d31"
   }
  }
 },
 "nbformat": 4,
 "nbformat_minor": 2
}
