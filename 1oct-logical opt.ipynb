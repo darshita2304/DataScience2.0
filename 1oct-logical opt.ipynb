{
 "cells": [
  {
   "cell_type": "markdown",
   "id": "a0820160-29e4-47b7-a1b0-51c97a26c882",
   "metadata": {},
   "source": [
    "Logical operators\n",
    "\n",
    "NOT unary negation\n",
    "AND conditional AND\n",
    "OR  conditional OR\n"
   ]
  },
  {
   "cell_type": "code",
   "execution_count": 3,
   "id": "aa4e0828-c3fa-4368-970e-deaa4423d07d",
   "metadata": {},
   "outputs": [
    {
     "name": "stdout",
     "output_type": "stream",
     "text": [
      "lets concentrate\n"
     ]
    }
   ],
   "source": [
    "calss_started = True\n",
    "\n",
    "if calss_started:\n",
    "    print(\"lets concentrate\")\n",
    "else:\n",
    "    print(\"practice more\")"
   ]
  },
  {
   "cell_type": "code",
   "execution_count": 4,
   "id": "64cfd0f3-8cef-4af9-9619-27b5f169efcb",
   "metadata": {},
   "outputs": [
    {
     "name": "stdout",
     "output_type": "stream",
     "text": [
      "skip video or wait...\n"
     ]
    }
   ],
   "source": [
    "calss_started = True\n",
    "wait_time = False\n",
    "\n",
    "if calss_started and wait_time:\n",
    "    print(\"lets concentrate\")\n",
    "else:\n",
    "    print(\"skip video or wait...\")"
   ]
  },
  {
   "cell_type": "code",
   "execution_count": 6,
   "id": "b30973b1-ae35-40e8-95b2-97aa762770fd",
   "metadata": {},
   "outputs": [
    {
     "name": "stdout",
     "output_type": "stream",
     "text": [
      "a or b-one of them has more than 10 number\n"
     ]
    }
   ],
   "source": [
    "a = 9\n",
    "b = 20\n",
    "\n",
    "if a>10 or b>10:\n",
    "    print(\"a or b-one of them has more than 10 number\")\n",
    "else:\n",
    "    print(\"a or b - one of them has less than 10\")"
   ]
  },
  {
   "cell_type": "code",
   "execution_count": 9,
   "id": "23a8483d-0caf-44c8-bbcc-0b8bfb3793a3",
   "metadata": {},
   "outputs": [
    {
     "name": "stdout",
     "output_type": "stream",
     "text": [
      "attendance criteria met?:False\n",
      "assignment critrria met?:False\n",
      "sports criteria met?:True\n",
      "the student is eligible to appear in final exam\n"
     ]
    }
   ],
   "source": [
    "attendance = 70\n",
    "assignments_submitted = 40\n",
    "sports_player = True\n",
    "\n",
    "print(f\"attendance criteria met?:{(attendance >= 75)}\")\n",
    "print(f\"assignment critrria met?:{(assignments_submitted) >= 70}\")\n",
    "print(f\"sports criteria met?:{sports_player}\")\n",
    "\n",
    "if attendance >= 75 and assignments_submitted >=70 or sports_player:\n",
    "        print(\"the student is eligible to appear in final exam\")\n",
    "else:\n",
    "        print(\"the student is not eligible...\")\n",
    "        "
   ]
  },
  {
   "cell_type": "raw",
   "id": "90448e0d-53ed-4623-bb3f-6e55c1bff50c",
   "metadata": {},
   "source": [
    "EQUALITY Oprators....\n",
    "\n",
    "is --- a is b --- return true if a and b is same value and memory location also\n",
    "is not ---- a is not b --- \n",
    "== --- a == b ---- only check the values\n",
    "!= --- a!=b"
   ]
  },
  {
   "cell_type": "code",
   "execution_count": 10,
   "id": "26a89c00-0987-45ac-8899-2b8fb96fcde3",
   "metadata": {},
   "outputs": [
    {
     "name": "stdout",
     "output_type": "stream",
     "text": [
      "a and b are same\n"
     ]
    }
   ],
   "source": [
    "a=1\n",
    "b=1\n",
    "if a is b:\n",
    "    print(\"a and b are same\")"
   ]
  },
  {
   "cell_type": "code",
   "execution_count": 13,
   "id": "2b2cad3c-20fb-44d3-aba3-2f4c54ced90a",
   "metadata": {},
   "outputs": [
    {
     "name": "stdout",
     "output_type": "stream",
     "text": [
      "both lsit are not same..\n"
     ]
    }
   ],
   "source": [
    "a = ['abc','def']\n",
    "b = ['abc','def']\n",
    "\n",
    "if a is b:\n",
    "    print(\"both list are same\")\n",
    "else:\n",
    "    print(\"both list are not same..\")\n",
    "#ID of both lists are different so they are not same "
   ]
  },
  {
   "cell_type": "code",
   "execution_count": 14,
   "id": "c3561fb6-f6c1-46a2-88fa-b785fca1b684",
   "metadata": {},
   "outputs": [
    {
     "data": {
      "text/plain": [
       "139828126025408"
      ]
     },
     "execution_count": 14,
     "metadata": {},
     "output_type": "execute_result"
    }
   ],
   "source": [
    "id(a)"
   ]
  },
  {
   "cell_type": "code",
   "execution_count": 15,
   "id": "249fe5b1-0ea0-4918-b690-0e56b5d9acd6",
   "metadata": {},
   "outputs": [
    {
     "data": {
      "text/plain": [
       "139828125972096"
      ]
     },
     "execution_count": 15,
     "metadata": {},
     "output_type": "execute_result"
    }
   ],
   "source": [
    "id(b)"
   ]
  },
  {
   "cell_type": "code",
   "execution_count": 16,
   "id": "8fc64de8-c4bf-4dd4-8cf5-921887f5dc97",
   "metadata": {},
   "outputs": [
    {
     "name": "stdout",
     "output_type": "stream",
     "text": [
      "both list are same\n"
     ]
    }
   ],
   "source": [
    "a = ['abc','def']\n",
    "b = ['abc','def']\n",
    "\n",
    "if a == b:\n",
    "    print(\"both list are same\")\n",
    "else:\n",
    "    print(\"both list are not same..\")"
   ]
  },
  {
   "cell_type": "code",
   "execution_count": 19,
   "id": "ea7053d2-3c0f-4703-8221-9904ee6714ff",
   "metadata": {},
   "outputs": [
    {
     "name": "stdin",
     "output_type": "stream",
     "text": [
      "enter name darshi\n",
      "enter age 22\n"
     ]
    },
    {
     "name": "stdout",
     "output_type": "stream",
     "text": [
      "22\n",
      "darshi\n"
     ]
    }
   ],
   "source": [
    "name = input(\"enter name\")\n",
    "age = input(\"enter age\")\n",
    "print(age)\n",
    "print(name)"
   ]
  },
  {
   "cell_type": "raw",
   "id": "1b428be4-f09e-4684-9cfb-ae02a892c171",
   "metadata": {},
   "source": [
    "### comparison\n",
    ">,<,<=,>=,==,!=\n"
   ]
  },
  {
   "cell_type": "code",
   "execution_count": 20,
   "id": "e5b663a8-4569-434e-a93c-6b3677c3afaa",
   "metadata": {},
   "outputs": [
    {
     "data": {
      "text/plain": [
       "23"
      ]
     },
     "execution_count": 20,
     "metadata": {},
     "output_type": "execute_result"
    }
   ],
   "source": [
    "bacon = 22\n",
    "bacon + 1\n"
   ]
  },
  {
   "cell_type": "code",
   "execution_count": 24,
   "id": "0a589bf8-c259-45ad-b79f-df258f975164",
   "metadata": {},
   "outputs": [
    {
     "data": {
      "text/plain": [
       "'spamspamspam'"
      ]
     },
     "execution_count": 24,
     "metadata": {},
     "output_type": "execute_result"
    }
   ],
   "source": [
    "'spam' + 'spamspam'\n",
    "'spam' * 3\n"
   ]
  },
  {
   "cell_type": "code",
   "execution_count": null,
   "id": "6d2a87d6-b1ba-40cb-a56b-6a8c4dbecefd",
   "metadata": {},
   "outputs": [],
   "source": []
  }
 ],
 "metadata": {
  "kernelspec": {
   "display_name": "Python 3 (ipykernel)",
   "language": "python",
   "name": "python3"
  },
  "language_info": {
   "codemirror_mode": {
    "name": "ipython",
    "version": 3
   },
   "file_extension": ".py",
   "mimetype": "text/x-python",
   "name": "python",
   "nbconvert_exporter": "python",
   "pygments_lexer": "ipython3",
   "version": "3.10.6"
  }
 },
 "nbformat": 4,
 "nbformat_minor": 5
}
