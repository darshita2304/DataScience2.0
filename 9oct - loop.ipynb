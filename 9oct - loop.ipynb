{
 "cells": [
  {
   "cell_type": "code",
   "execution_count": 7,
   "id": "a316d832-a99e-4092-b940-613fe0c76382",
   "metadata": {},
   "outputs": [
    {
     "name": "stdout",
     "output_type": "stream",
     "text": [
      "car amount is 1000\n",
      "pay amount:700.0\n"
     ]
    }
   ],
   "source": [
    "total_amt = 1000\n",
    "\n",
    "print(f\"car amount is {total_amt}\")\n",
    "\n",
    "if total_amt > 999:\n",
    "    price_to_pay = total_amt * 0.7\n",
    "    print(f\"pay amount:{price_to_pay}\")\n",
    "elif total_amt < 999 and total_amt > 4999:\n",
    "    price_to_pay =  total_Amt * 80/100\n",
    "    print(f\"pay amount:{price_to_pay}\")\n",
    "else:\n",
    "    print(f\"pay amount:{price_to_pay}\")\n",
    "    \n",
    "    "
   ]
  },
  {
   "cell_type": "code",
   "execution_count": 8,
   "id": "2dc0ab4c-a5cf-4242-adb4-0cb0cfa3689e",
   "metadata": {},
   "outputs": [
    {
     "name": "stdin",
     "output_type": "stream",
     "text": [
      "Enter a number 34\n"
     ]
    },
    {
     "name": "stdout",
     "output_type": "stream",
     "text": [
      "no\n"
     ]
    }
   ],
   "source": [
    "#single if statements\n",
    "\n",
    "val = float(input(\"Enter a number\"))\n",
    "\n",
    "if val>99: print(\"yes\")\n",
    "else: print(\"no\")"
   ]
  },
  {
   "cell_type": "code",
   "execution_count": 9,
   "id": "64fc03a5-940c-475c-b141-857489c5ef1d",
   "metadata": {},
   "outputs": [
    {
     "name": "stdin",
     "output_type": "stream",
     "text": [
      "Enter a number 100\n"
     ]
    },
    {
     "name": "stdout",
     "output_type": "stream",
     "text": [
      "yes\n"
     ]
    }
   ],
   "source": [
    "val = float(input(\"Enter a number\"))\n",
    "\n",
    "print(\"yes\" if val>99 else \"no\")"
   ]
  },
  {
   "cell_type": "code",
   "execution_count": 11,
   "id": "a7a1eb7a-850a-4e52-aaa2-314279162b63",
   "metadata": {},
   "outputs": [
    {
     "name": "stdout",
     "output_type": "stream",
     "text": [
      "sum of all numbers is 21\n"
     ]
    }
   ],
   "source": [
    "##while loop\n",
    "\n",
    "num = [1,2,3,4,5,6]\n",
    "\n",
    "i=0\n",
    "sum=0\n",
    "\n",
    "while(i<len(num)):\n",
    "    sum = sum + num[i]\n",
    "    i=i+1\n",
    "    \n",
    "print(f\"sum of all numbers is {sum}\")"
   ]
  },
  {
   "cell_type": "code",
   "execution_count": 12,
   "id": "b96261d1-429d-48d9-be9c-8583ac2e4106",
   "metadata": {},
   "outputs": [
    {
     "name": "stdout",
     "output_type": "stream",
     "text": [
      "sum of all numbers is 21\n"
     ]
    }
   ],
   "source": [
    "##while else .... loop\n",
    "\n",
    "num = [1,2,3,4,5,6]\n",
    "\n",
    "i=0\n",
    "sum=0\n",
    "\n",
    "while(i < len(num)):\n",
    "    sum = sum + num[i]\n",
    "    i=i+1\n",
    "else:\n",
    "    print(f\"sum of all numbers is {sum}\")"
   ]
  },
  {
   "cell_type": "code",
   "execution_count": 14,
   "id": "6c60fba1-831c-4f01-9c43-4e0b76ee7b08",
   "metadata": {},
   "outputs": [
    {
     "name": "stdout",
     "output_type": "stream",
     "text": [
      "0\n",
      "1\n",
      "2\n",
      "3\n",
      "4\n",
      "5\n",
      "6\n",
      "7\n",
      "8\n",
      "9\n"
     ]
    }
   ],
   "source": [
    "## for loop\n",
    "for i in range(0,10):\n",
    "    print(i)"
   ]
  },
  {
   "cell_type": "code",
   "execution_count": 16,
   "id": "031fede2-89d1-462a-aeb8-8b004c07f5a4",
   "metadata": {},
   "outputs": [
    {
     "name": "stdout",
     "output_type": "stream",
     "text": [
      "10 X 0 = 0\n",
      "10 X 1 = 10\n",
      "10 X 2 = 20\n",
      "10 X 3 = 30\n",
      "10 X 4 = 40\n",
      "10 X 5 = 50\n",
      "10 X 6 = 60\n",
      "10 X 7 = 70\n",
      "10 X 8 = 80\n",
      "10 X 9 = 90\n"
     ]
    }
   ],
   "source": [
    "## for loop\n",
    "for i in range(0,10):\n",
    "    print(f\"10 X {i} = {10*i}\")"
   ]
  },
  {
   "cell_type": "code",
   "execution_count": 17,
   "id": "601cfffc-974e-4dd7-ac3d-9954378fbc62",
   "metadata": {},
   "outputs": [
    {
     "name": "stdout",
     "output_type": "stream",
     "text": [
      "10 X 1 = 10\n",
      "10 X 2 = 20\n",
      "10 X 3 = 30\n",
      "10 X 4 = 40\n",
      "10 X 5 = 50\n",
      "10 X 6 = 60\n",
      "10 X 7 = 70\n",
      "10 X 8 = 80\n",
      "10 X 9 = 90\n",
      "10 X 10 = 100\n"
     ]
    }
   ],
   "source": [
    "## for loop\n",
    "for i in range(0,10):\n",
    "    print(f\"10 X {i+1} = {10*(i+1)}\")"
   ]
  },
  {
   "cell_type": "code",
   "execution_count": 18,
   "id": "0a5f001f-bdb8-4c21-a3e3-dfa73b8d38c9",
   "metadata": {},
   "outputs": [
    {
     "name": "stdout",
     "output_type": "stream",
     "text": [
      "0\n",
      "1\n",
      "2\n",
      "3\n",
      "4\n",
      "5\n",
      "6\n",
      "7\n",
      "8\n",
      "9\n"
     ]
    }
   ],
   "source": [
    "## for loop\n",
    "for i in range(10):\n",
    "    print(i)"
   ]
  },
  {
   "cell_type": "code",
   "execution_count": 21,
   "id": "3ff5720b-25b6-448e-8bcc-4a1a64f328c9",
   "metadata": {},
   "outputs": [
    {
     "name": "stdout",
     "output_type": "stream",
     "text": [
      "\n",
      "*\n",
      "**\n",
      "***\n",
      "****\n",
      "*****\n",
      "******\n",
      "*******\n",
      "********\n",
      "*********\n"
     ]
    }
   ],
   "source": [
    "## for loop\n",
    "for i in range(0,10,1):\n",
    "    print(\"*\"*i)"
   ]
  },
  {
   "cell_type": "code",
   "execution_count": 23,
   "id": "3111a521-f331-4ed0-8cee-dbd34775829f",
   "metadata": {},
   "outputs": [
    {
     "name": "stdout",
     "output_type": "stream",
     "text": [
      "10 X 1 = 10\n",
      "10 X 3 = 30\n",
      "10 X 5 = 50\n",
      "10 X 7 = 70\n",
      "10 X 9 = 90\n"
     ]
    }
   ],
   "source": [
    "## for loop\n",
    "for i in range(1,10,2):\n",
    "    print(f\"10 X {i} = {10*i}\")"
   ]
  },
  {
   "cell_type": "code",
   "execution_count": 2,
   "id": "92db8144-bc9a-4c3d-b2be-7525e200f464",
   "metadata": {},
   "outputs": [
    {
     "name": "stdout",
     "output_type": "stream",
     "text": [
      "0 = 0 + 100\n",
      "after adding total=100\n",
      "-------------\n",
      "100 = 100 + 200\n",
      "after adding total=300\n",
      "-------------\n",
      "300 = 300 + 129\n",
      "after adding total=429\n",
      "-------------\n",
      "429 = 429 + 343\n",
      "after adding total=772\n",
      "-------------\n",
      "772 = 772 + 1000\n",
      "after adding total=1772\n",
      "-------------\n",
      "Total amount to be paid:1772\n"
     ]
    }
   ],
   "source": [
    "cost_of_items = [100, 200, 129, 343, 1000]\n",
    "\n",
    "total = 0\n",
    "\n",
    "for cost in cost_of_items:\n",
    "    print(f\"{total} = {total} + {cost}\")\n",
    "    total = total + cost\n",
    "    print(f\"after adding total={total}\")\n",
    "    print(\"-------------\")\n",
    "    \n",
    "print(f\"Total amount to be paid:{total}\")"
   ]
  },
  {
   "cell_type": "code",
   "execution_count": 2,
   "id": "3d621b5e-22ca-4875-a317-68fac370eb22",
   "metadata": {},
   "outputs": [
    {
     "name": "stdout",
     "output_type": "stream",
     "text": [
      "0 = 0 + 100\n",
      "after adding total=100\n",
      "-------------\n",
      "100 = 100 + 200\n",
      "after adding total=300\n",
      "-------------\n",
      "300 = 300 + 129\n",
      "after adding total=429\n",
      "-------------\n",
      "429 = 429 + 343\n",
      "after adding total=772\n",
      "-------------\n",
      "772 = 772 + 1000\n",
      "after adding total=1772\n",
      "since current total os mpre than budget:1500\n",
      "Please remoth last item\n",
      "Total amount to be paid:772\n"
     ]
    }
   ],
   "source": [
    "cost_of_items = [100, 200, 129, 343, 1000]\n",
    "\n",
    "\n",
    "total = 0\n",
    "budget = 1500\n",
    "\n",
    "for cost in cost_of_items:\n",
    "    print(f\"{total} = {total} + {cost}\")\n",
    "    total = total + cost\n",
    "    print(f\"after adding total={total}\")\n",
    "    if (total > budget):\n",
    "        print(f\"since current total os mpre than budget:{budget}\")\n",
    "        print(\"Please remoth last item\")\n",
    "        total = total - cost\n",
    "        break #break the loop and exit\n",
    "    print(\"-------------\")\n",
    "    \n",
    "print(f\"Total amount to be paid:{total}\")"
   ]
  },
  {
   "cell_type": "code",
   "execution_count": 3,
   "id": "354c97e5-2c3e-447b-9e16-9fea76a7bf20",
   "metadata": {},
   "outputs": [
    {
     "name": "stdout",
     "output_type": "stream",
     "text": [
      "1\n",
      "3\n",
      "5\n",
      "7\n",
      "9\n",
      "11\n",
      "13\n",
      "15\n",
      "17\n",
      "19\n"
     ]
    }
   ],
   "source": [
    "## print odd number...\n",
    "for i in range(1,20):\n",
    "    if i % 2 == 0:\n",
    "        continue # continue the loop from begining without next stmt\n",
    "    print(i)"
   ]
  },
  {
   "cell_type": "code",
   "execution_count": null,
   "id": "5472e0e9-f76f-4dc1-b915-0abd17efbd50",
   "metadata": {},
   "outputs": [],
   "source": []
  }
 ],
 "metadata": {
  "kernelspec": {
   "display_name": "Python 3 (ipykernel)",
   "language": "python",
   "name": "python3"
  },
  "language_info": {
   "codemirror_mode": {
    "name": "ipython",
    "version": 3
   },
   "file_extension": ".py",
   "mimetype": "text/x-python",
   "name": "python",
   "nbconvert_exporter": "python",
   "pygments_lexer": "ipython3",
   "version": "3.10.6"
  }
 },
 "nbformat": 4,
 "nbformat_minor": 5
}
