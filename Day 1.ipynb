{
 "cells": [
  {
   "cell_type": "code",
   "execution_count": 1,
   "id": "bd44b016",
   "metadata": {},
   "outputs": [
    {
     "ename": "SyntaxError",
     "evalue": "invalid syntax (338979512.py, line 1)",
     "output_type": "error",
     "traceback": [
      "\u001b[1;36m  File \u001b[1;32m\"C:\\Users\\Darshi\\AppData\\Local\\Temp\\ipykernel_20156\\338979512.py\"\u001b[1;36m, line \u001b[1;32m1\u001b[0m\n\u001b[1;33m    Hello, I will Compelete this course with my 100%.\u001b[0m\n\u001b[1;37m                                        ^\u001b[0m\n\u001b[1;31mSyntaxError\u001b[0m\u001b[1;31m:\u001b[0m invalid syntax\n"
     ]
    }
   ],
   "source": [
    "Hello, I will Compelete this course with my 100%.\n"
   ]
  },
  {
   "cell_type": "raw",
   "id": "5f172579",
   "metadata": {},
   "source": [
    "Hello, I will Compelete this course with my 100%.\n"
   ]
  },
  {
   "cell_type": "code",
   "execution_count": 2,
   "id": "f82350fc",
   "metadata": {},
   "outputs": [
    {
     "ename": "SyntaxError",
     "evalue": "invalid syntax (854793798.py, line 1)",
     "output_type": "error",
     "traceback": [
      "\u001b[1;36m  File \u001b[1;32m\"C:\\Users\\Darshi\\AppData\\Local\\Temp\\ipykernel_20156\\854793798.py\"\u001b[1;36m, line \u001b[1;32m1\u001b[0m\n\u001b[1;33m    Hello, I will Compelete this course with my 100%.\u001b[0m\n\u001b[1;37m                                        ^\u001b[0m\n\u001b[1;31mSyntaxError\u001b[0m\u001b[1;31m:\u001b[0m invalid syntax\n"
     ]
    }
   ],
   "source": [
    "Hello, I will Compelete this course with my 100%."
   ]
  },
  {
   "cell_type": "markdown",
   "id": "4a20a70d",
   "metadata": {},
   "source": []
  },
  {
   "cell_type": "code",
   "execution_count": 3,
   "id": "31ba7525",
   "metadata": {},
   "outputs": [
    {
     "ename": "SyntaxError",
     "evalue": "invalid syntax (338979512.py, line 1)",
     "output_type": "error",
     "traceback": [
      "\u001b[1;36m  File \u001b[1;32m\"C:\\Users\\Darshi\\AppData\\Local\\Temp\\ipykernel_20156\\338979512.py\"\u001b[1;36m, line \u001b[1;32m1\u001b[0m\n\u001b[1;33m    Hello, I will Compelete this course with my 100%.\u001b[0m\n\u001b[1;37m                                        ^\u001b[0m\n\u001b[1;31mSyntaxError\u001b[0m\u001b[1;31m:\u001b[0m invalid syntax\n"
     ]
    }
   ],
   "source": [
    "Hello, I will Compelete this course with my 100%.\n"
   ]
  },
  {
   "cell_type": "raw",
   "id": "6310a509",
   "metadata": {},
   "source": [
    "#Hello, I will Compelete this course with my 100%.\n"
   ]
  },
  {
   "cell_type": "code",
   "execution_count": null,
   "id": "409d7cdc",
   "metadata": {},
   "outputs": [],
   "source": []
  }
 ],
 "metadata": {
  "kernelspec": {
   "display_name": "Python 3 (ipykernel)",
   "language": "python",
   "name": "python3"
  },
  "language_info": {
   "codemirror_mode": {
    "name": "ipython",
    "version": 3
   },
   "file_extension": ".py",
   "mimetype": "text/x-python",
   "name": "python",
   "nbconvert_exporter": "python",
   "pygments_lexer": "ipython3",
   "version": "3.9.13"
  }
 },
 "nbformat": 4,
 "nbformat_minor": 5
}
