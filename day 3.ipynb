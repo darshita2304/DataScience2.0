{
 "cells": [
  {
   "cell_type": "code",
   "execution_count": 1,
   "id": "1309b1ab-e21d-413c-8600-828c9848b6ac",
   "metadata": {},
   "outputs": [
    {
     "name": "stdin",
     "output_type": "stream",
     "text": [
      "Enter name darshita\n"
     ]
    },
    {
     "name": "stdout",
     "output_type": "stream",
     "text": [
      "you hv entered:darshita\n"
     ]
    }
   ],
   "source": [
    "name =  input(\"Enter name\")\n",
    "print (f\"you hv entered:{name}\")"
   ]
  },
  {
   "cell_type": "code",
   "execution_count": 3,
   "id": "4e24ebce-e1a5-463a-98a6-13c5c791d5c3",
   "metadata": {},
   "outputs": [
    {
     "name": "stdin",
     "output_type": "stream",
     "text": [
      "Enter value of A 3\n",
      "Enter value of B 4\n"
     ]
    },
    {
     "name": "stdout",
     "output_type": "stream",
     "text": [
      "sum of a and b34\n"
     ]
    }
   ],
   "source": [
    "A = input(\"Enter value of A\")\n",
    "B = input(\"Enter value of B\")\n",
    "print (f\"sum of a and b {A+B}\")"
   ]
  },
  {
   "cell_type": "code",
   "execution_count": 6,
   "id": "05acda5d-0408-48a9-812d-b672abd68f22",
   "metadata": {},
   "outputs": [
    {
     "name": "stdin",
     "output_type": "stream",
     "text": [
      "Enter value of A 3\n",
      "Enter value of B 4\n"
     ]
    },
    {
     "name": "stdout",
     "output_type": "stream",
     "text": [
      "sum of a and b 7\n"
     ]
    }
   ],
   "source": [
    "A = int(input(\"Enter value of A\"))\n",
    "B = int(input(\"Enter value of B\"))\n",
    "print (f\"sum of a and b {(A+B)}\")"
   ]
  },
  {
   "cell_type": "code",
   "execution_count": 8,
   "id": "bc495b20-f42f-428c-9917-1cb341917718",
   "metadata": {},
   "outputs": [
    {
     "name": "stdin",
     "output_type": "stream",
     "text": [
      "Enter value of A 4.5\n"
     ]
    },
    {
     "ename": "ValueError",
     "evalue": "invalid literal for int() with base 10: '4.5'",
     "output_type": "error",
     "traceback": [
      "\u001b[0;31m---------------------------------------------------------------------------\u001b[0m",
      "\u001b[0;31mValueError\u001b[0m                                Traceback (most recent call last)",
      "Cell \u001b[0;32mIn [8], line 1\u001b[0m\n\u001b[0;32m----> 1\u001b[0m A \u001b[38;5;241m=\u001b[39m \u001b[38;5;28;43mint\u001b[39;49m\u001b[43m(\u001b[49m\u001b[38;5;28;43minput\u001b[39;49m\u001b[43m(\u001b[49m\u001b[38;5;124;43m\"\u001b[39;49m\u001b[38;5;124;43mEnter value of A\u001b[39;49m\u001b[38;5;124;43m\"\u001b[39;49m\u001b[43m)\u001b[49m\u001b[43m)\u001b[49m\n\u001b[1;32m      2\u001b[0m B \u001b[38;5;241m=\u001b[39m \u001b[38;5;28mint\u001b[39m(\u001b[38;5;28minput\u001b[39m(\u001b[38;5;124m\"\u001b[39m\u001b[38;5;124mEnter value of B\u001b[39m\u001b[38;5;124m\"\u001b[39m))\n\u001b[1;32m      3\u001b[0m \u001b[38;5;28mprint\u001b[39m (\u001b[38;5;124mf\u001b[39m\u001b[38;5;124m\"\u001b[39m\u001b[38;5;124msum of a and b \u001b[39m\u001b[38;5;132;01m{\u001b[39;00m(A\u001b[38;5;241m+\u001b[39mB)\u001b[38;5;132;01m}\u001b[39;00m\u001b[38;5;124m\"\u001b[39m)\n",
      "\u001b[0;31mValueError\u001b[0m: invalid literal for int() with base 10: '4.5'"
     ]
    }
   ],
   "source": [
    "A = int(input(\"Enter value of A\"))\n",
    "B = int(input(\"Enter value of B\"))\n",
    "print (f\"sum of a and b {(A+B)}\")"
   ]
  },
  {
   "cell_type": "code",
   "execution_count": 9,
   "id": "a07cbac2-277c-4f32-9b75-94cc69da9949",
   "metadata": {},
   "outputs": [
    {
     "name": "stdin",
     "output_type": "stream",
     "text": [
      "Enter value of A 4.5\n",
      "Enter value of B 5.5\n"
     ]
    },
    {
     "name": "stdout",
     "output_type": "stream",
     "text": [
      "sum of a and b 10.0\n"
     ]
    }
   ],
   "source": [
    "A = float(input(\"Enter value of A\"))\n",
    "B = float(input(\"Enter value of B\"))\n",
    "print (f\"sum of a and b {(A+B)}\")"
   ]
  },
  {
   "cell_type": "code",
   "execution_count": 11,
   "id": "682eb25f-bbea-4853-b696-6adfc9582f4a",
   "metadata": {},
   "outputs": [
    {
     "name": "stdout",
     "output_type": "stream",
     "text": [
      "data typr before: <class 'str'>\n",
      "data type after: <class 'int'>\n"
     ]
    }
   ],
   "source": [
    "A=\"5\"\n",
    "print(f\"data typr before: {type(A)}\")\n",
    "A = int(A)\n",
    "print(f\"data type after: {type(A)}\")"
   ]
  },
  {
   "cell_type": "code",
   "execution_count": 15,
   "id": "949911a1-50ea-46f4-bae4-c679a3c747e2",
   "metadata": {},
   "outputs": [
    {
     "name": "stdout",
     "output_type": "stream",
     "text": [
      " my name is :darshi\n",
      "I live at pune\n",
      "my dob is 25th apr\n"
     ]
    }
   ],
   "source": [
    "name, place, dob = \"darshi\",\"pune\",\"25th apr\"\n",
    "print (f\"\"\" my name is :{name}\n",
    "I live at {place}\n",
    "my dob is {dob}\"\"\")"
   ]
  },
  {
   "cell_type": "code",
   "execution_count": 16,
   "id": "817ceddf-8d4d-4a87-8a5d-f1067ca28473",
   "metadata": {},
   "outputs": [
    {
     "name": "stdin",
     "output_type": "stream",
     "text": [
      "Enter value of A 3\n",
      "Enter value of B 4\n"
     ]
    },
    {
     "name": "stdout",
     "output_type": "stream",
     "text": [
      " sum of a + b is 7\n"
     ]
    }
   ],
   "source": [
    "a = int(input(\"Enter value of A\"))\n",
    "b = int(input(\"Enter value of B\"))\n",
    "print (f\" sum of a + b is {a+b}\")"
   ]
  },
  {
   "cell_type": "code",
   "execution_count": 17,
   "id": "d459dbc8-3a32-4ba2-92d3-b7623462d010",
   "metadata": {},
   "outputs": [],
   "source": [
    "#memory block example\n",
    "a=22\n",
    "b=32\n",
    "c=22"
   ]
  },
  {
   "cell_type": "code",
   "execution_count": 23,
   "id": "96d9ef0f-138b-40d1-92aa-799b4483f551",
   "metadata": {},
   "outputs": [
    {
     "data": {
      "text/plain": [
       "140687995437968"
      ]
     },
     "execution_count": 23,
     "metadata": {},
     "output_type": "execute_result"
    }
   ],
   "source": [
    "id(a)  # return memory location in RAM"
   ]
  },
  {
   "cell_type": "code",
   "execution_count": 19,
   "id": "045dbf47-b357-477a-b76f-d336f90dedfe",
   "metadata": {},
   "outputs": [
    {
     "data": {
      "text/plain": [
       "140687995438288"
      ]
     },
     "execution_count": 19,
     "metadata": {},
     "output_type": "execute_result"
    }
   ],
   "source": [
    "id(b)"
   ]
  },
  {
   "cell_type": "code",
   "execution_count": 20,
   "id": "6b788575-aed1-449c-9f35-d495607dddf7",
   "metadata": {},
   "outputs": [
    {
     "data": {
      "text/plain": [
       "140687995437968"
      ]
     },
     "execution_count": 20,
     "metadata": {},
     "output_type": "execute_result"
    }
   ],
   "source": [
    "id(c)\n"
   ]
  },
  {
   "cell_type": "code",
   "execution_count": 22,
   "id": "3cba6a7c-2a97-428c-b46d-f9e4907cf256",
   "metadata": {},
   "outputs": [
    {
     "data": {
      "text/plain": [
       "140687995438096"
      ]
     },
     "execution_count": 22,
     "metadata": {},
     "output_type": "execute_result"
    }
   ],
   "source": [
    "c=a + 4\n",
    "id(c)"
   ]
  },
  {
   "cell_type": "code",
   "execution_count": 24,
   "id": "d1763c50-9e27-4a4b-bea4-bea69da34b47",
   "metadata": {},
   "outputs": [
    {
     "name": "stdout",
     "output_type": "stream",
     "text": [
      "140687995437968 140687995438352 140687643573232\n"
     ]
    }
   ],
   "source": [
    "a = 22\n",
    "b = 34\n",
    "c = 22.0\n",
    "print (id(a),id(b),id(c))"
   ]
  },
  {
   "cell_type": "code",
   "execution_count": 25,
   "id": "1d57150c-f7d0-45b3-bdc2-d466a3ad892a",
   "metadata": {},
   "outputs": [
    {
     "name": "stdout",
     "output_type": "stream",
     "text": [
      " value of a 22\n"
     ]
    }
   ],
   "source": [
    "a = 22.2\n",
    "print (f\" value of a {int(a)}\" )"
   ]
  },
  {
   "cell_type": "code",
   "execution_count": 26,
   "id": "ba090e1a-e08f-49e3-900f-ec0acd153e08",
   "metadata": {},
   "outputs": [],
   "source": [
    "a = complex(a)"
   ]
  },
  {
   "cell_type": "code",
   "execution_count": 27,
   "id": "38ed9402-263f-4320-88ad-30347944641c",
   "metadata": {},
   "outputs": [
    {
     "name": "stdout",
     "output_type": "stream",
     "text": [
      "(22.2+0j)\n"
     ]
    }
   ],
   "source": [
    "print(a)"
   ]
  },
  {
   "cell_type": "code",
   "execution_count": null,
   "id": "f8799fc8-3ff9-4b65-a413-2954e7688d92",
   "metadata": {},
   "outputs": [],
   "source": []
  }
 ],
 "metadata": {
  "kernelspec": {
   "display_name": "Python 3 (ipykernel)",
   "language": "python",
   "name": "python3"
  },
  "language_info": {
   "codemirror_mode": {
    "name": "ipython",
    "version": 3
   },
   "file_extension": ".py",
   "mimetype": "text/x-python",
   "name": "python",
   "nbconvert_exporter": "python",
   "pygments_lexer": "ipython3",
   "version": "3.10.6"
  }
 },
 "nbformat": 4,
 "nbformat_minor": 5
}
