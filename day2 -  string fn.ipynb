{
 "cells": [
  {
   "cell_type": "code",
   "execution_count": 1,
   "id": "77b27e4e",
   "metadata": {},
   "outputs": [],
   "source": [
    "str=\"Darshita\""
   ]
  },
  {
   "cell_type": "code",
   "execution_count": 2,
   "id": "0a02a93f",
   "metadata": {},
   "outputs": [
    {
     "data": {
      "text/plain": [
       "'s'"
      ]
     },
     "execution_count": 2,
     "metadata": {},
     "output_type": "execute_result"
    }
   ],
   "source": [
    "str[3]"
   ]
  },
  {
   "cell_type": "code",
   "execution_count": 3,
   "id": "5789ac8d",
   "metadata": {},
   "outputs": [
    {
     "data": {
      "text/plain": [
       "'t'"
      ]
     },
     "execution_count": 3,
     "metadata": {},
     "output_type": "execute_result"
    }
   ],
   "source": [
    "str[-2]"
   ]
  },
  {
   "cell_type": "code",
   "execution_count": 5,
   "id": "3c50549a",
   "metadata": {},
   "outputs": [
    {
     "data": {
      "text/plain": [
       "'Darshi'"
      ]
     },
     "execution_count": 5,
     "metadata": {},
     "output_type": "execute_result"
    }
   ],
   "source": [
    "str[0:6]"
   ]
  },
  {
   "cell_type": "raw",
   "id": "e5906e4a",
   "metadata": {},
   "source": [
    "str[0:300]"
   ]
  },
  {
   "cell_type": "code",
   "execution_count": 6,
   "id": "b0c2d9f0",
   "metadata": {},
   "outputs": [
    {
     "data": {
      "text/plain": [
       "'Darshita'"
      ]
     },
     "execution_count": 6,
     "metadata": {},
     "output_type": "execute_result"
    }
   ],
   "source": [
    "str[0:300]"
   ]
  },
  {
   "cell_type": "code",
   "execution_count": 8,
   "id": "49849b6e",
   "metadata": {},
   "outputs": [
    {
     "data": {
      "text/plain": [
       "''"
      ]
     },
     "execution_count": 8,
     "metadata": {},
     "output_type": "execute_result"
    }
   ],
   "source": [
    "str[-1:-4]"
   ]
  },
  {
   "cell_type": "markdown",
   "id": "4156fb05",
   "metadata": {},
   "source": [
    "str[0:8:1]"
   ]
  },
  {
   "cell_type": "code",
   "execution_count": 9,
   "id": "4c15ccb6",
   "metadata": {},
   "outputs": [
    {
     "data": {
      "text/plain": [
       "'Darshita'"
      ]
     },
     "execution_count": 9,
     "metadata": {},
     "output_type": "execute_result"
    }
   ],
   "source": [
    "str[0:8:1] #jump by index 1str[] by default jump size is +1"
   ]
  },
  {
   "cell_type": "code",
   "execution_count": 10,
   "id": "5533fe77",
   "metadata": {},
   "outputs": [
    {
     "data": {
      "text/plain": [
       "'Drht'"
      ]
     },
     "execution_count": 10,
     "metadata": {},
     "output_type": "execute_result"
    }
   ],
   "source": [
    "str[0:8:2] #jump by index 2 "
   ]
  },
  {
   "cell_type": "code",
   "execution_count": 11,
   "id": "c5cf612c",
   "metadata": {},
   "outputs": [
    {
     "data": {
      "text/plain": [
       "''"
      ]
     },
     "execution_count": 11,
     "metadata": {},
     "output_type": "execute_result"
    }
   ],
   "source": [
    "str[0:8:-1]"
   ]
  },
  {
   "cell_type": "code",
   "execution_count": 12,
   "id": "ebb4116e",
   "metadata": {},
   "outputs": [
    {
     "data": {
      "text/plain": [
       "'ati'"
      ]
     },
     "execution_count": 12,
     "metadata": {},
     "output_type": "execute_result"
    }
   ],
   "source": [
    "str[-1:-4:-1]"
   ]
  },
  {
   "cell_type": "code",
   "execution_count": 13,
   "id": "c167de04",
   "metadata": {},
   "outputs": [
    {
     "data": {
      "text/plain": [
       "'Darshita'"
      ]
     },
     "execution_count": 13,
     "metadata": {},
     "output_type": "execute_result"
    }
   ],
   "source": [
    "str[::] #not defining size [0:len:1]"
   ]
  },
  {
   "cell_type": "code",
   "execution_count": 14,
   "id": "418c04f9",
   "metadata": {},
   "outputs": [
    {
     "data": {
      "text/plain": [
       "'Dars'"
      ]
     },
     "execution_count": 14,
     "metadata": {},
     "output_type": "execute_result"
    }
   ],
   "source": [
    "str[:4]"
   ]
  },
  {
   "cell_type": "code",
   "execution_count": 15,
   "id": "f51e97b0",
   "metadata": {},
   "outputs": [
    {
     "data": {
      "text/plain": [
       "'t'"
      ]
     },
     "execution_count": 15,
     "metadata": {},
     "output_type": "execute_result"
    }
   ],
   "source": [
    "str[-2]"
   ]
  },
  {
   "cell_type": "code",
   "execution_count": 16,
   "id": "be4a224c",
   "metadata": {},
   "outputs": [
    {
     "data": {
      "text/plain": [
       "'ta'"
      ]
     },
     "execution_count": 16,
     "metadata": {},
     "output_type": "execute_result"
    }
   ],
   "source": [
    "str[-2:]"
   ]
  },
  {
   "cell_type": "code",
   "execution_count": 17,
   "id": "e23426fc",
   "metadata": {},
   "outputs": [
    {
     "data": {
      "text/plain": [
       "'t'"
      ]
     },
     "execution_count": 17,
     "metadata": {},
     "output_type": "execute_result"
    }
   ],
   "source": [
    "str[-2:-1]"
   ]
  },
  {
   "cell_type": "code",
   "execution_count": 18,
   "id": "2cfb7548",
   "metadata": {},
   "outputs": [
    {
     "data": {
      "text/plain": [
       "'atihsraD'"
      ]
     },
     "execution_count": 18,
     "metadata": {},
     "output_type": "execute_result"
    }
   ],
   "source": [
    "str[::-1] #default start is -1,no len, -1 jump reverse string"
   ]
  },
  {
   "cell_type": "code",
   "execution_count": 19,
   "id": "f6a69329",
   "metadata": {},
   "outputs": [
    {
     "data": {
      "text/plain": [
       "'atihsraD'"
      ]
     },
     "execution_count": 19,
     "metadata": {},
     "output_type": "execute_result"
    }
   ],
   "source": [
    "str[-1::-1]"
   ]
  },
  {
   "cell_type": "code",
   "execution_count": 20,
   "id": "781610cb",
   "metadata": {},
   "outputs": [],
   "source": [
    "str=\"this is india\""
   ]
  },
  {
   "cell_type": "code",
   "execution_count": 21,
   "id": "18ba189d",
   "metadata": {},
   "outputs": [
    {
     "data": {
      "text/plain": [
       "''"
      ]
     },
     "execution_count": 21,
     "metadata": {},
     "output_type": "execute_result"
    }
   ],
   "source": [
    "str[-5:5]"
   ]
  },
  {
   "cell_type": "code",
   "execution_count": 24,
   "id": "48f5a543",
   "metadata": {},
   "outputs": [
    {
     "data": {
      "text/plain": [
       "'i si s'"
      ]
     },
     "execution_count": 24,
     "metadata": {},
     "output_type": "execute_result"
    }
   ],
   "source": [
    "str[-5:2:-1]"
   ]
  },
  {
   "cell_type": "markdown",
   "id": "63baf7a1",
   "metadata": {},
   "source": [
    "\"test\"*2"
   ]
  },
  {
   "cell_type": "code",
   "execution_count": 28,
   "id": "df443653",
   "metadata": {},
   "outputs": [
    {
     "data": {
      "text/plain": [
       "'testtesttesttest'"
      ]
     },
     "execution_count": 28,
     "metadata": {},
     "output_type": "execute_result"
    }
   ],
   "source": [
    "\"test\"*4 #repeat string 4 times"
   ]
  },
  {
   "cell_type": "code",
   "execution_count": 26,
   "id": "11606741",
   "metadata": {},
   "outputs": [
    {
     "data": {
      "text/plain": [
       "'testing'"
      ]
     },
     "execution_count": 26,
     "metadata": {},
     "output_type": "execute_result"
    }
   ],
   "source": [
    "\"test\"+\"ing\" #concatination"
   ]
  },
  {
   "cell_type": "code",
   "execution_count": 27,
   "id": "0c5f39a9",
   "metadata": {},
   "outputs": [
    {
     "data": {
      "text/plain": [
       "13"
      ]
     },
     "execution_count": 27,
     "metadata": {},
     "output_type": "execute_result"
    }
   ],
   "source": [
    "len(str) #length of string including space"
   ]
  },
  {
   "cell_type": "code",
   "execution_count": 29,
   "id": "ae276535",
   "metadata": {},
   "outputs": [
    {
     "data": {
      "text/plain": [
       "12"
      ]
     },
     "execution_count": 29,
     "metadata": {},
     "output_type": "execute_result"
    }
   ],
   "source": [
    "str.find('a')"
   ]
  },
  {
   "cell_type": "code",
   "execution_count": 31,
   "id": "141bf897",
   "metadata": {},
   "outputs": [
    {
     "data": {
      "text/plain": [
       "1"
      ]
     },
     "execution_count": 31,
     "metadata": {},
     "output_type": "execute_result"
    }
   ],
   "source": [
    "str.count('a')"
   ]
  },
  {
   "cell_type": "code",
   "execution_count": 32,
   "id": "53736824",
   "metadata": {},
   "outputs": [
    {
     "data": {
      "text/plain": [
       "['this', 'is', 'india']"
      ]
     },
     "execution_count": 32,
     "metadata": {},
     "output_type": "execute_result"
    }
   ],
   "source": [
    "str.split() # return list of string"
   ]
  },
  {
   "cell_type": "code",
   "execution_count": 33,
   "id": "8b1be22c",
   "metadata": {},
   "outputs": [
    {
     "data": {
      "text/plain": [
       "list"
      ]
     },
     "execution_count": 33,
     "metadata": {},
     "output_type": "execute_result"
    }
   ],
   "source": [
    "type(str.split())"
   ]
  },
  {
   "cell_type": "code",
   "execution_count": 34,
   "id": "5c132cdc",
   "metadata": {},
   "outputs": [],
   "source": [
    "lst = str.split() # by default string will be split by space char"
   ]
  },
  {
   "cell_type": "code",
   "execution_count": 35,
   "id": "b73dadaf",
   "metadata": {},
   "outputs": [
    {
     "data": {
      "text/plain": [
       "'this'"
      ]
     },
     "execution_count": 35,
     "metadata": {},
     "output_type": "execute_result"
    }
   ],
   "source": [
    "lst[0]"
   ]
  },
  {
   "cell_type": "code",
   "execution_count": 36,
   "id": "a996ec4e",
   "metadata": {},
   "outputs": [
    {
     "data": {
      "text/plain": [
       "'india'"
      ]
     },
     "execution_count": 36,
     "metadata": {},
     "output_type": "execute_result"
    }
   ],
   "source": [
    "lst[-1]"
   ]
  },
  {
   "cell_type": "code",
   "execution_count": 37,
   "id": "7069bd02",
   "metadata": {},
   "outputs": [
    {
     "data": {
      "text/plain": [
       "['this', 'is']"
      ]
     },
     "execution_count": 37,
     "metadata": {},
     "output_type": "execute_result"
    }
   ],
   "source": [
    "lst[0:2]"
   ]
  },
  {
   "cell_type": "code",
   "execution_count": 40,
   "id": "d0fd0c00",
   "metadata": {},
   "outputs": [],
   "source": [
    "lst = str.split('i')"
   ]
  },
  {
   "cell_type": "code",
   "execution_count": 41,
   "id": "9419d3b1",
   "metadata": {},
   "outputs": [
    {
     "data": {
      "text/plain": [
       "['th', 's ', 's ', 'nd', 'a']"
      ]
     },
     "execution_count": 41,
     "metadata": {},
     "output_type": "execute_result"
    }
   ],
   "source": [
    "lst"
   ]
  },
  {
   "cell_type": "raw",
   "id": "c6d8739b",
   "metadata": {},
   "source": [
    "str.upper()"
   ]
  },
  {
   "cell_type": "code",
   "execution_count": 42,
   "id": "07eba699",
   "metadata": {},
   "outputs": [
    {
     "data": {
      "text/plain": [
       "'THIS IS INDIA'"
      ]
     },
     "execution_count": 42,
     "metadata": {},
     "output_type": "execute_result"
    }
   ],
   "source": [
    "str.upper()"
   ]
  },
  {
   "cell_type": "code",
   "execution_count": 43,
   "id": "4b6f77b7",
   "metadata": {},
   "outputs": [
    {
     "data": {
      "text/plain": [
       "'THIS IS INDIA'"
      ]
     },
     "execution_count": 43,
     "metadata": {},
     "output_type": "execute_result"
    }
   ],
   "source": [
    "str.swapcase() # upper in to lower and lower in to upper swapcase"
   ]
  },
  {
   "cell_type": "code",
   "execution_count": 44,
   "id": "a3860b8a",
   "metadata": {},
   "outputs": [
    {
     "data": {
      "text/plain": [
       "'This Is India'"
      ]
     },
     "execution_count": 44,
     "metadata": {},
     "output_type": "execute_result"
    }
   ],
   "source": [
    "str.title() #all words will hv capital letter"
   ]
  },
  {
   "cell_type": "code",
   "execution_count": 45,
   "id": "fc2dd855",
   "metadata": {},
   "outputs": [
    {
     "data": {
      "text/plain": [
       "'This is india'"
      ]
     },
     "execution_count": 45,
     "metadata": {},
     "output_type": "execute_result"
    }
   ],
   "source": [
    "str.capitalize() # make first letter of string in capital"
   ]
  },
  {
   "cell_type": "code",
   "execution_count": 46,
   "id": "581e856f",
   "metadata": {},
   "outputs": [],
   "source": [
    "str1=\"hello wolrd\""
   ]
  },
  {
   "cell_type": "code",
   "execution_count": 47,
   "id": "15012de5",
   "metadata": {},
   "outputs": [
    {
     "data": {
      "text/plain": [
       "'hthis is indiaethis is indialthis is indialthis is indiaothis is india this is indiawthis is indiaothis is indialthis is indiarthis is indiad'"
      ]
     },
     "execution_count": 47,
     "metadata": {},
     "output_type": "execute_result"
    }
   ],
   "source": [
    "str.join(str1)"
   ]
  },
  {
   "cell_type": "code",
   "execution_count": 48,
   "id": "1958b3bc",
   "metadata": {},
   "outputs": [
    {
     "data": {
      "text/plain": [
       "'h e l l o   w o l r d'"
      ]
     },
     "execution_count": 48,
     "metadata": {},
     "output_type": "execute_result"
    }
   ],
   "source": [
    "\" \".join(str1) # join each letter with given string"
   ]
  },
  {
   "cell_type": "code",
   "execution_count": 49,
   "id": "9aeba9e8",
   "metadata": {},
   "outputs": [
    {
     "data": {
      "text/plain": [
       "<reversed at 0x2555068bdc0>"
      ]
     },
     "execution_count": 49,
     "metadata": {},
     "output_type": "execute_result"
    }
   ],
   "source": [
    "reversed(str)"
   ]
  },
  {
   "cell_type": "code",
   "execution_count": 53,
   "id": "de2893ef",
   "metadata": {},
   "outputs": [
    {
     "name": "stdout",
     "output_type": "stream",
     "text": [
      "a\n",
      "i\n",
      "d\n",
      "n\n",
      "i\n",
      " \n",
      "s\n",
      "i\n",
      " \n",
      "s\n",
      "i\n",
      "h\n",
      "t\n"
     ]
    }
   ],
   "source": [
    "for i in reversed(str):\n",
    "    print(i)"
   ]
  },
  {
   "cell_type": "markdown",
   "id": "f9905ad7",
   "metadata": {},
   "source": [
    "str[::-1]"
   ]
  },
  {
   "cell_type": "code",
   "execution_count": 54,
   "id": "b7ce6d23",
   "metadata": {},
   "outputs": [
    {
     "data": {
      "text/plain": [
       "'aidni si siht'"
      ]
     },
     "execution_count": 54,
     "metadata": {},
     "output_type": "execute_result"
    }
   ],
   "source": [
    "str[::-1]"
   ]
  },
  {
   "cell_type": "code",
   "execution_count": 55,
   "id": "cb569557",
   "metadata": {},
   "outputs": [],
   "source": [
    "s = \" hello \""
   ]
  },
  {
   "cell_type": "code",
   "execution_count": 56,
   "id": "2cc6c8ad",
   "metadata": {},
   "outputs": [
    {
     "data": {
      "text/plain": [
       "'hello'"
      ]
     },
     "execution_count": 56,
     "metadata": {},
     "output_type": "execute_result"
    }
   ],
   "source": [
    "s.strip()"
   ]
  },
  {
   "cell_type": "code",
   "execution_count": 57,
   "id": "fe1e0f00",
   "metadata": {},
   "outputs": [
    {
     "data": {
      "text/plain": [
       "' hello'"
      ]
     },
     "execution_count": 57,
     "metadata": {},
     "output_type": "execute_result"
    }
   ],
   "source": [
    "s.rstrip()"
   ]
  },
  {
   "cell_type": "code",
   "execution_count": 58,
   "id": "8bcc38d6",
   "metadata": {},
   "outputs": [
    {
     "data": {
      "text/plain": [
       "'hello '"
      ]
     },
     "execution_count": 58,
     "metadata": {},
     "output_type": "execute_result"
    }
   ],
   "source": [
    "s.lstrip()"
   ]
  },
  {
   "cell_type": "code",
   "execution_count": 59,
   "id": "0d9d850e",
   "metadata": {},
   "outputs": [
    {
     "data": {
      "text/plain": [
       "'_hello_'"
      ]
     },
     "execution_count": 59,
     "metadata": {},
     "output_type": "execute_result"
    }
   ],
   "source": [
    "s.replace(\" \",\"_\")"
   ]
  },
  {
   "cell_type": "code",
   "execution_count": 60,
   "id": "2de49c61",
   "metadata": {},
   "outputs": [
    {
     "data": {
      "text/plain": [
       "'hello   world'"
      ]
     },
     "execution_count": 60,
     "metadata": {},
     "output_type": "execute_result"
    }
   ],
   "source": [
    "\"hello\\tworld\".expandtabs()"
   ]
  },
  {
   "cell_type": "code",
   "execution_count": 63,
   "id": "76a32d5b",
   "metadata": {},
   "outputs": [
    {
     "data": {
      "text/plain": [
       "'**************** hello *****************'"
      ]
     },
     "execution_count": 63,
     "metadata": {},
     "output_type": "execute_result"
    }
   ],
   "source": [
    "s.center(40,\"*\")"
   ]
  },
  {
   "cell_type": "code",
   "execution_count": 64,
   "id": "c266f741",
   "metadata": {},
   "outputs": [
    {
     "data": {
      "text/plain": [
       "True"
      ]
     },
     "execution_count": 64,
     "metadata": {},
     "output_type": "execute_result"
    }
   ],
   "source": [
    "s.islower() # whole string is in lower case or not"
   ]
  },
  {
   "cell_type": "code",
   "execution_count": 65,
   "id": "27b2757a",
   "metadata": {},
   "outputs": [
    {
     "data": {
      "text/plain": [
       "False"
      ]
     },
     "execution_count": 65,
     "metadata": {},
     "output_type": "execute_result"
    }
   ],
   "source": [
    "s.isspace() # whole string has space or not"
   ]
  },
  {
   "cell_type": "code",
   "execution_count": 66,
   "id": "2eb1c34c",
   "metadata": {},
   "outputs": [
    {
     "data": {
      "text/plain": [
       "False"
      ]
     },
     "execution_count": 66,
     "metadata": {},
     "output_type": "execute_result"
    }
   ],
   "source": [
    "s.isdigit() # whole string is digit or not"
   ]
  },
  {
   "cell_type": "code",
   "execution_count": 70,
   "id": "851d28cd",
   "metadata": {},
   "outputs": [
    {
     "data": {
      "text/plain": [
       "True"
      ]
     },
     "execution_count": 70,
     "metadata": {},
     "output_type": "execute_result"
    }
   ],
   "source": [
    "s.endswith(' ')"
   ]
  },
  {
   "cell_type": "raw",
   "id": "1cf92841",
   "metadata": {},
   "source": []
  },
  {
   "cell_type": "code",
   "execution_count": 71,
   "id": "18f91c01",
   "metadata": {},
   "outputs": [
    {
     "data": {
      "text/plain": [
       "False"
      ]
     },
     "execution_count": 71,
     "metadata": {},
     "output_type": "execute_result"
    }
   ],
   "source": [
    "s.startswith('h')"
   ]
  },
  {
   "cell_type": "code",
   "execution_count": 72,
   "id": "8524b699",
   "metadata": {},
   "outputs": [
    {
     "data": {
      "text/plain": [
       "True"
      ]
     },
     "execution_count": 72,
     "metadata": {},
     "output_type": "execute_result"
    }
   ],
   "source": [
    "\"This\".istitle()"
   ]
  },
  {
   "cell_type": "code",
   "execution_count": null,
   "id": "ed94f37a",
   "metadata": {},
   "outputs": [],
   "source": []
  }
 ],
 "metadata": {
  "kernelspec": {
   "display_name": "Python 3 (ipykernel)",
   "language": "python",
   "name": "python3"
  },
  "language_info": {
   "codemirror_mode": {
    "name": "ipython",
    "version": 3
   },
   "file_extension": ".py",
   "mimetype": "text/x-python",
   "name": "python",
   "nbconvert_exporter": "python",
   "pygments_lexer": "ipython3",
   "version": "3.9.13"
  }
 },
 "nbformat": 4,
 "nbformat_minor": 5
}
